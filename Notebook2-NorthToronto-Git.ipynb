{
 "cells": [
  {
   "cell_type": "markdown",
   "metadata": {
    "button": false,
    "new_sheet": false,
    "run_control": {
     "read_only": false
    }
   },
   "source": [
    "<a href=\"https://cognitiveclass.ai\"><img src = \"https://ibm.box.com/shared/static/9gegpsmnsoo25ikkbl4qzlvlyjbgxs5x.png\" width = 400> </a>\n",
    "\n",
    "<h1 align=center><font size = 5>Analyzing Mexican Restaurants in North Toronto West, Lawrence Park</font></h1>\n"
   ]
  },
  {
   "cell_type": "markdown",
   "metadata": {
    "button": false,
    "new_sheet": false,
    "run_control": {
     "read_only": false
    }
   },
   "source": [
    "\n"
   ]
  },
  {
   "cell_type": "markdown",
   "metadata": {
    "button": false,
    "new_sheet": false,
    "run_control": {
     "read_only": false
    }
   },
   "source": [
    "## Introduction\n",
    "\n",
    "For the Final Capstone of the IBM Data Science Course, there is a group of investors taht want to open a new Mexican Restaurant in Toronto, Canada. I have made a previous analysis about the Neighborhoods in Toronto, and the stakeholders decided to review 3 Neighborhoods:Lawrence Park, North Toronto and Rosadale. \n",
    "This Notebook will focus on reviewing **North Toronto West, Lawrence Park Neiborhood**. I will use other Notebooks to analyze the other 2 Neighborhoods.\n"
   ]
  },
  {
   "cell_type": "markdown",
   "metadata": {
    "button": false,
    "new_sheet": false,
    "run_control": {
     "read_only": false
    }
   },
   "source": [
    "## Table of Contents\n",
    "\n",
    "1.  <a href=\"#item1\">Using Foursquare to find Mexican Restaurants Nearby</a>\n",
    "2.  <a href=\"#item2\">Explore a Given Mexican Restaurant Venue</a>  \n",
    "3.  <a href=\"#item3\">Explore Venyes in the loacation</a>  \n",
    "4.  <a href=\"#item4\">Get Trending Venues</a>  \n",
    "\n"
   ]
  },
  {
   "cell_type": "markdown",
   "metadata": {
    "button": false,
    "new_sheet": false,
    "run_control": {
     "read_only": false
    }
   },
   "source": [
    "### Import necessary Libraries\n"
   ]
  },
  {
   "cell_type": "code",
   "execution_count": 1,
   "metadata": {
    "button": false,
    "collapsed": false,
    "jupyter": {
     "outputs_hidden": false
    },
    "new_sheet": false,
    "run_control": {
     "read_only": false
    }
   },
   "outputs": [
    {
     "name": "stdout",
     "output_type": "stream",
     "text": [
      "Requirement already satisfied: geopy in /home/jupyterlab/conda/envs/python/lib/python3.6/site-packages (2.1.0)\n",
      "Requirement already satisfied: geographiclib<2,>=1.49 in /home/jupyterlab/conda/envs/python/lib/python3.6/site-packages (from geopy) (1.50)\n",
      "Requirement already satisfied: folium==0.5.0 in /home/jupyterlab/conda/envs/python/lib/python3.6/site-packages (0.5.0)\n",
      "Requirement already satisfied: requests in /home/jupyterlab/conda/envs/python/lib/python3.6/site-packages (from folium==0.5.0) (2.25.0)\n",
      "Requirement already satisfied: six in /home/jupyterlab/conda/envs/python/lib/python3.6/site-packages (from folium==0.5.0) (1.15.0)\n",
      "Requirement already satisfied: branca in /home/jupyterlab/conda/envs/python/lib/python3.6/site-packages (from folium==0.5.0) (0.4.1)\n",
      "Requirement already satisfied: jinja2 in /home/jupyterlab/conda/envs/python/lib/python3.6/site-packages (from folium==0.5.0) (2.11.2)\n",
      "Requirement already satisfied: chardet<4,>=3.0.2 in /home/jupyterlab/conda/envs/python/lib/python3.6/site-packages (from requests->folium==0.5.0) (3.0.4)\n",
      "Requirement already satisfied: urllib3<1.27,>=1.21.1 in /home/jupyterlab/conda/envs/python/lib/python3.6/site-packages (from requests->folium==0.5.0) (1.25.11)\n",
      "Requirement already satisfied: certifi>=2017.4.17 in /home/jupyterlab/conda/envs/python/lib/python3.6/site-packages (from requests->folium==0.5.0) (2020.12.5)\n",
      "Requirement already satisfied: idna<3,>=2.5 in /home/jupyterlab/conda/envs/python/lib/python3.6/site-packages (from requests->folium==0.5.0) (2.10)\n",
      "Requirement already satisfied: MarkupSafe>=0.23 in /home/jupyterlab/conda/envs/python/lib/python3.6/site-packages (from jinja2->folium==0.5.0) (1.1.1)\n",
      "Folium installed\n",
      "Libraries imported.\n"
     ]
    }
   ],
   "source": [
    "import requests # library to handle requests\n",
    "import pandas as pd # library for data analsysis\n",
    "import numpy as np # library to handle data in a vectorized manner\n",
    "import random # library for random number generation\n",
    "\n",
    "\n",
    "!pip install geopy\n",
    "from geopy.geocoders import Nominatim # module to convert an address into latitude and longitude values\n",
    "\n",
    "# libraries for displaying images\n",
    "from IPython.display import Image \n",
    "from IPython.core.display import HTML \n",
    "    \n",
    "# tranforming json file into a pandas dataframe library\n",
    "from pandas.io.json import json_normalize\n",
    "\n",
    "\n",
    "! pip install folium==0.5.0\n",
    "import folium # plotting library\n",
    "\n",
    "print('Folium installed')\n",
    "print('Libraries imported.')"
   ]
  },
  {
   "cell_type": "markdown",
   "metadata": {
    "button": false,
    "new_sheet": false,
    "run_control": {
     "read_only": false
    }
   },
   "source": [
    "### Define Foursquare Credentials and Version\n"
   ]
  },
  {
   "cell_type": "markdown",
   "metadata": {
    "button": false,
    "new_sheet": false,
    "run_control": {
     "read_only": false
    }
   },
   "source": [
    "##### Make sure that you have created a Foursquare developer account and have your credentials handy\n"
   ]
  },
  {
   "cell_type": "code",
   "execution_count": 2,
   "metadata": {
    "button": false,
    "collapsed": false,
    "jupyter": {
     "outputs_hidden": false
    },
    "new_sheet": false,
    "run_control": {
     "read_only": false
    }
   },
   "outputs": [
    {
     "name": "stdout",
     "output_type": "stream",
     "text": [
      "Your credentails are saved\n"
     ]
    }
   ],
   "source": [
    "CLIENT_ID = 'Foursquare ID' # your Foursquare ID\n",
    "CLIENT_SECRET = 'your Foursquare Secret' # your Foursquare Secret\n",
    "ACCESS_TOKEN = 'your FourSquare Access Token' # your FourSquare Access Token\n",
    "VERSION = '20180604'\n",
    "LIMIT = 100\n",
    "print('Your credentails are saved')\n"
   ]
  },
  {
   "cell_type": "markdown",
   "metadata": {
    "button": false,
    "new_sheet": false,
    "run_control": {
     "read_only": false
    }
   },
   "source": [
    "\n"
   ]
  },
  {
   "cell_type": "markdown",
   "metadata": {
    "button": false,
    "new_sheet": false,
    "run_control": {
     "read_only": false
    }
   },
   "source": [
    "#### Let's Analyze North Toronto West, Lawrence Park Neighborhood\n"
   ]
  },
  {
   "cell_type": "markdown",
   "metadata": {},
   "source": [
    "We will use the coordinates from our previous lab for this Neighborhood.\n"
   ]
  },
  {
   "cell_type": "markdown",
   "metadata": {
    "button": false,
    "jupyter": {
     "outputs_hidden": false
    },
    "new_sheet": false,
    "run_control": {
     "read_only": false
    }
   },
   "source": [
    "### North Toronto West, Lawrence Location"
   ]
  },
  {
   "cell_type": "code",
   "execution_count": null,
   "metadata": {},
   "outputs": [],
   "source": [
    "latitude = 43.7153834\n",
    "longitude = -79.4056784\n"
   ]
  },
  {
   "cell_type": "markdown",
   "metadata": {
    "button": false,
    "new_sheet": false,
    "run_control": {
     "read_only": false
    }
   },
   "source": [
    "\n"
   ]
  },
  {
   "cell_type": "markdown",
   "metadata": {
    "button": false,
    "new_sheet": false,
    "run_control": {
     "read_only": false
    }
   },
   "source": [
    "<a id=\"item1\"></a>\n"
   ]
  },
  {
   "cell_type": "markdown",
   "metadata": {
    "button": false,
    "new_sheet": false,
    "run_control": {
     "read_only": false
    }
   },
   "source": [
    "## 1. Search for a specific venue category\n",
    "\n",
    "> `https://api.foursquare.com/v2/venues/`**search**`?client_id=`**CLIENT_ID**`&client_secret=`**CLIENT_SECRET**`&ll=`**LATITUDE**`,`**LONGITUDE**`&v=`**VERSION**`&query=`**QUERY**`&radius=`**RADIUS**`&limit=`**LIMIT**\n"
   ]
  },
  {
   "cell_type": "markdown",
   "metadata": {
    "button": false,
    "new_sheet": false,
    "run_control": {
     "read_only": false
    }
   },
   "source": [
    "#### Now, let's assume that it is lunch time, and you are craving Mexican food. So, let's define a query to search for Mexican food that is within 1000 meters from the Location.\n"
   ]
  },
  {
   "cell_type": "code",
   "execution_count": null,
   "metadata": {
    "button": false,
    "collapsed": false,
    "jupyter": {
     "outputs_hidden": false
    },
    "new_sheet": false,
    "run_control": {
     "read_only": false
    },
    "scrolled": true
   },
   "outputs": [],
   "source": [
    "search_query = 'Mexican'\n",
    "radius = 1000\n",
    "print(search_query + ' .... OK!')"
   ]
  },
  {
   "cell_type": "code",
   "execution_count": null,
   "metadata": {},
   "outputs": [],
   "source": [
    "import json"
   ]
  },
  {
   "cell_type": "markdown",
   "metadata": {
    "button": false,
    "new_sheet": false,
    "run_control": {
     "read_only": false
    }
   },
   "source": [
    "#### Define the corresponding URL\n"
   ]
  },
  {
   "cell_type": "code",
   "execution_count": 5,
   "metadata": {
    "button": false,
    "collapsed": false,
    "jupyter": {
     "outputs_hidden": false
    },
    "new_sheet": false,
    "run_control": {
     "read_only": false
    }
   },
   "outputs": [],
   "source": [
    "url = 'https://api.foursquare.com/v2/venues/search?client_id={}&client_secret={}&ll={},{}&oauth_token={}&v={}&query={}&radius={}&limit={}'.format(CLIENT_ID, CLIENT_SECRET, latitude, longitude,ACCESS_TOKEN, VERSION, search_query, radius, LIMIT)\n"
   ]
  },
  {
   "cell_type": "markdown",
   "metadata": {
    "button": false,
    "new_sheet": false,
    "run_control": {
     "read_only": false
    }
   },
   "source": [
    "#### Send the GET Request and examine the results\n"
   ]
  },
  {
   "cell_type": "code",
   "execution_count": 6,
   "metadata": {
    "button": false,
    "collapsed": false,
    "jupyter": {
     "outputs_hidden": false
    },
    "new_sheet": false,
    "run_control": {
     "read_only": false
    },
    "scrolled": true
   },
   "outputs": [
    {
     "data": {
      "text/plain": [
       "{'meta': {'code': 200, 'requestId': '60046d2f71e86c414c8c2566'},\n",
       " 'notifications': [{'type': 'notificationTray', 'item': {'unreadCount': 11}}],\n",
       " 'response': {'venues': [{'id': '5738efd3498ef5d2444c477e',\n",
       "    'name': \"Tio's Urban Mexican\",\n",
       "    'location': {'address': '2584 Yonge Street',\n",
       "     'lat': 43.71463,\n",
       "     'lng': -79.4,\n",
       "     'labeledLatLngs': [{'label': 'display', 'lat': 43.71463, 'lng': -79.4}],\n",
       "     'distance': 464,\n",
       "     'cc': 'CA',\n",
       "     'city': 'Toronto',\n",
       "     'state': 'ON',\n",
       "     'country': 'Canada',\n",
       "     'formattedAddress': ['2584 Yonge Street', 'Toronto ON', 'Canada']},\n",
       "    'categories': [{'id': '4bf58dd8d48988d1c1941735',\n",
       "      'name': 'Mexican Restaurant',\n",
       "      'pluralName': 'Mexican Restaurants',\n",
       "      'shortName': 'Mexican',\n",
       "      'icon': {'prefix': 'https://ss3.4sqi.net/img/categories_v2/food/mexican_',\n",
       "       'suffix': '.png'},\n",
       "      'primary': True}],\n",
       "    'referralId': 'v-1610902832',\n",
       "    'hasPerk': False},\n",
       "   {'id': '55e648c2498e05836b7febc5',\n",
       "    'name': 'Chipotle Mexican Grill',\n",
       "    'location': {'lat': 43.70815173828545,\n",
       "     'lng': -79.3982778666589,\n",
       "     'labeledLatLngs': [{'label': 'display',\n",
       "       'lat': 43.70815173828545,\n",
       "       'lng': -79.3982778666589}],\n",
       "     'distance': 1001,\n",
       "     'cc': 'CA',\n",
       "     'city': 'Toronto',\n",
       "     'state': 'ON',\n",
       "     'country': 'Canada',\n",
       "     'formattedAddress': ['Toronto ON', 'Canada']},\n",
       "    'categories': [{'id': '4bf58dd8d48988d1c1941735',\n",
       "      'name': 'Mexican Restaurant',\n",
       "      'pluralName': 'Mexican Restaurants',\n",
       "      'shortName': 'Mexican',\n",
       "      'icon': {'prefix': 'https://ss3.4sqi.net/img/categories_v2/food/mexican_',\n",
       "       'suffix': '.png'},\n",
       "      'primary': True}],\n",
       "    'referralId': 'v-1610902832',\n",
       "    'hasPerk': False},\n",
       "   {'id': '4e505fa5ae6051db8ddacc02',\n",
       "    'name': 'Chimichanga: Mexican Grill & Tequila Bar',\n",
       "    'location': {'lat': 43.70827233934408,\n",
       "     'lng': -79.39902954762894,\n",
       "     'labeledLatLngs': [{'label': 'display',\n",
       "       'lat': 43.70827233934408,\n",
       "       'lng': -79.39902954762894}],\n",
       "     'distance': 955,\n",
       "     'cc': 'CA',\n",
       "     'city': 'Toronto',\n",
       "     'state': 'ON',\n",
       "     'country': 'Canada',\n",
       "     'formattedAddress': ['Toronto ON', 'Canada']},\n",
       "    'categories': [{'id': '4bf58dd8d48988d1c1941735',\n",
       "      'name': 'Mexican Restaurant',\n",
       "      'pluralName': 'Mexican Restaurants',\n",
       "      'shortName': 'Mexican',\n",
       "      'icon': {'prefix': 'https://ss3.4sqi.net/img/categories_v2/food/mexican_',\n",
       "       'suffix': '.png'},\n",
       "      'primary': True}],\n",
       "    'referralId': 'v-1610902832',\n",
       "    'hasPerk': False}]}}"
      ]
     },
     "execution_count": 6,
     "metadata": {},
     "output_type": "execute_result"
    }
   ],
   "source": [
    "results = requests.get(url).json()\n",
    "results"
   ]
  },
  {
   "cell_type": "code",
   "execution_count": 7,
   "metadata": {},
   "outputs": [
    {
     "name": "stdout",
     "output_type": "stream",
     "text": [
      "There are 3 Mexican Restaurants around North Toronto West,Lawrence Park.\n"
     ]
    }
   ],
   "source": [
    "if len(results['response']['venues']) == 0:\n",
    "    print('There are not Mexican Restaurants')\n",
    "    MexicanRestaurants = False\n",
    "else:\n",
    "    print('There are {} Mexican Restaurants around North Toronto West,Lawrence Park.'.format(len(results['response']['venues'])))\n",
    "    MexicanRestaurants = True"
   ]
  },
  {
   "cell_type": "code",
   "execution_count": 8,
   "metadata": {},
   "outputs": [],
   "source": [
    "import json\n",
    "with open('MexicanRestaurantsNTorontoWL.json', 'w') as f:\n",
    "    json.dump(results, f)"
   ]
  },
  {
   "cell_type": "markdown",
   "metadata": {
    "button": false,
    "new_sheet": false,
    "run_control": {
     "read_only": false
    }
   },
   "source": [
    "#### Get relevant part of JSON and transform it into a _pandas_ dataframe\n"
   ]
  },
  {
   "cell_type": "code",
   "execution_count": 9,
   "metadata": {
    "button": false,
    "collapsed": false,
    "jupyter": {
     "outputs_hidden": false
    },
    "new_sheet": false,
    "run_control": {
     "read_only": false
    }
   },
   "outputs": [
    {
     "name": "stderr",
     "output_type": "stream",
     "text": [
      "/home/jupyterlab/conda/envs/python/lib/python3.6/site-packages/ipykernel_launcher.py:5: FutureWarning: pandas.io.json.json_normalize is deprecated, use pandas.json_normalize instead\n",
      "  \"\"\"\n"
     ]
    },
    {
     "data": {
      "text/html": [
       "<div>\n",
       "<style scoped>\n",
       "    .dataframe tbody tr th:only-of-type {\n",
       "        vertical-align: middle;\n",
       "    }\n",
       "\n",
       "    .dataframe tbody tr th {\n",
       "        vertical-align: top;\n",
       "    }\n",
       "\n",
       "    .dataframe thead th {\n",
       "        text-align: right;\n",
       "    }\n",
       "</style>\n",
       "<table border=\"1\" class=\"dataframe\">\n",
       "  <thead>\n",
       "    <tr style=\"text-align: right;\">\n",
       "      <th></th>\n",
       "      <th>id</th>\n",
       "      <th>name</th>\n",
       "      <th>categories</th>\n",
       "      <th>referralId</th>\n",
       "      <th>hasPerk</th>\n",
       "      <th>location.address</th>\n",
       "      <th>location.lat</th>\n",
       "      <th>location.lng</th>\n",
       "      <th>location.labeledLatLngs</th>\n",
       "      <th>location.distance</th>\n",
       "      <th>location.cc</th>\n",
       "      <th>location.city</th>\n",
       "      <th>location.state</th>\n",
       "      <th>location.country</th>\n",
       "      <th>location.formattedAddress</th>\n",
       "    </tr>\n",
       "  </thead>\n",
       "  <tbody>\n",
       "    <tr>\n",
       "      <th>0</th>\n",
       "      <td>5738efd3498ef5d2444c477e</td>\n",
       "      <td>Tio's Urban Mexican</td>\n",
       "      <td>[{'id': '4bf58dd8d48988d1c1941735', 'name': 'M...</td>\n",
       "      <td>v-1610902832</td>\n",
       "      <td>False</td>\n",
       "      <td>2584 Yonge Street</td>\n",
       "      <td>43.714630</td>\n",
       "      <td>-79.400000</td>\n",
       "      <td>[{'label': 'display', 'lat': 43.71463, 'lng': ...</td>\n",
       "      <td>464</td>\n",
       "      <td>CA</td>\n",
       "      <td>Toronto</td>\n",
       "      <td>ON</td>\n",
       "      <td>Canada</td>\n",
       "      <td>[2584 Yonge Street, Toronto ON, Canada]</td>\n",
       "    </tr>\n",
       "    <tr>\n",
       "      <th>1</th>\n",
       "      <td>55e648c2498e05836b7febc5</td>\n",
       "      <td>Chipotle Mexican Grill</td>\n",
       "      <td>[{'id': '4bf58dd8d48988d1c1941735', 'name': 'M...</td>\n",
       "      <td>v-1610902832</td>\n",
       "      <td>False</td>\n",
       "      <td>NaN</td>\n",
       "      <td>43.708152</td>\n",
       "      <td>-79.398278</td>\n",
       "      <td>[{'label': 'display', 'lat': 43.70815173828545...</td>\n",
       "      <td>1001</td>\n",
       "      <td>CA</td>\n",
       "      <td>Toronto</td>\n",
       "      <td>ON</td>\n",
       "      <td>Canada</td>\n",
       "      <td>[Toronto ON, Canada]</td>\n",
       "    </tr>\n",
       "    <tr>\n",
       "      <th>2</th>\n",
       "      <td>4e505fa5ae6051db8ddacc02</td>\n",
       "      <td>Chimichanga: Mexican Grill &amp; Tequila Bar</td>\n",
       "      <td>[{'id': '4bf58dd8d48988d1c1941735', 'name': 'M...</td>\n",
       "      <td>v-1610902832</td>\n",
       "      <td>False</td>\n",
       "      <td>NaN</td>\n",
       "      <td>43.708272</td>\n",
       "      <td>-79.399030</td>\n",
       "      <td>[{'label': 'display', 'lat': 43.70827233934408...</td>\n",
       "      <td>955</td>\n",
       "      <td>CA</td>\n",
       "      <td>Toronto</td>\n",
       "      <td>ON</td>\n",
       "      <td>Canada</td>\n",
       "      <td>[Toronto ON, Canada]</td>\n",
       "    </tr>\n",
       "  </tbody>\n",
       "</table>\n",
       "</div>"
      ],
      "text/plain": [
       "                         id                                      name  \\\n",
       "0  5738efd3498ef5d2444c477e                       Tio's Urban Mexican   \n",
       "1  55e648c2498e05836b7febc5                    Chipotle Mexican Grill   \n",
       "2  4e505fa5ae6051db8ddacc02  Chimichanga: Mexican Grill & Tequila Bar   \n",
       "\n",
       "                                          categories    referralId  hasPerk  \\\n",
       "0  [{'id': '4bf58dd8d48988d1c1941735', 'name': 'M...  v-1610902832    False   \n",
       "1  [{'id': '4bf58dd8d48988d1c1941735', 'name': 'M...  v-1610902832    False   \n",
       "2  [{'id': '4bf58dd8d48988d1c1941735', 'name': 'M...  v-1610902832    False   \n",
       "\n",
       "    location.address  location.lat  location.lng  \\\n",
       "0  2584 Yonge Street     43.714630    -79.400000   \n",
       "1                NaN     43.708152    -79.398278   \n",
       "2                NaN     43.708272    -79.399030   \n",
       "\n",
       "                             location.labeledLatLngs  location.distance  \\\n",
       "0  [{'label': 'display', 'lat': 43.71463, 'lng': ...                464   \n",
       "1  [{'label': 'display', 'lat': 43.70815173828545...               1001   \n",
       "2  [{'label': 'display', 'lat': 43.70827233934408...                955   \n",
       "\n",
       "  location.cc location.city location.state location.country  \\\n",
       "0          CA       Toronto             ON           Canada   \n",
       "1          CA       Toronto             ON           Canada   \n",
       "2          CA       Toronto             ON           Canada   \n",
       "\n",
       "                 location.formattedAddress  \n",
       "0  [2584 Yonge Street, Toronto ON, Canada]  \n",
       "1                     [Toronto ON, Canada]  \n",
       "2                     [Toronto ON, Canada]  "
      ]
     },
     "execution_count": 9,
     "metadata": {},
     "output_type": "execute_result"
    }
   ],
   "source": [
    "# assign relevant part of JSON to venues\n",
    "venues = results['response']['venues']\n",
    "\n",
    "# tranform venues into a dataframe\n",
    "dataframe = json_normalize(venues)\n",
    "dataframe.head()"
   ]
  },
  {
   "cell_type": "markdown",
   "metadata": {
    "button": false,
    "new_sheet": false,
    "run_control": {
     "read_only": false
    }
   },
   "source": [
    "#### Define information of interest and filter dataframe\n"
   ]
  },
  {
   "cell_type": "code",
   "execution_count": 10,
   "metadata": {
    "button": false,
    "collapsed": false,
    "jupyter": {
     "outputs_hidden": false
    },
    "new_sheet": false,
    "run_control": {
     "read_only": false
    },
    "scrolled": true
   },
   "outputs": [],
   "source": [
    "# keep only columns that include venue name, and anything that is associated with location\n",
    "filtered_columns = ['name', 'categories'] + [col for col in dataframe.columns if col.startswith('location.')] + ['id']\n",
    "dataframe_filtered = dataframe.loc[:, filtered_columns]\n"
   ]
  },
  {
   "cell_type": "code",
   "execution_count": 6,
   "metadata": {},
   "outputs": [],
   "source": [
    "# function that extracts the category of the venue\n",
    "def get_category_type(row):\n",
    "    try:\n",
    "        categories_list = row['categories']\n",
    "    except:\n",
    "        categories_list = row['venue.categories']\n",
    "        \n",
    "    if len(categories_list) == 0:\n",
    "        return None\n",
    "    else:\n",
    "        return categories_list[0]['name']"
   ]
  },
  {
   "cell_type": "code",
   "execution_count": 12,
   "metadata": {},
   "outputs": [
    {
     "data": {
      "text/html": [
       "<div>\n",
       "<style scoped>\n",
       "    .dataframe tbody tr th:only-of-type {\n",
       "        vertical-align: middle;\n",
       "    }\n",
       "\n",
       "    .dataframe tbody tr th {\n",
       "        vertical-align: top;\n",
       "    }\n",
       "\n",
       "    .dataframe thead th {\n",
       "        text-align: right;\n",
       "    }\n",
       "</style>\n",
       "<table border=\"1\" class=\"dataframe\">\n",
       "  <thead>\n",
       "    <tr style=\"text-align: right;\">\n",
       "      <th></th>\n",
       "      <th>name</th>\n",
       "      <th>categories</th>\n",
       "      <th>address</th>\n",
       "      <th>lat</th>\n",
       "      <th>lng</th>\n",
       "      <th>labeledLatLngs</th>\n",
       "      <th>distance</th>\n",
       "      <th>cc</th>\n",
       "      <th>city</th>\n",
       "      <th>state</th>\n",
       "      <th>country</th>\n",
       "      <th>formattedAddress</th>\n",
       "      <th>id</th>\n",
       "    </tr>\n",
       "  </thead>\n",
       "  <tbody>\n",
       "    <tr>\n",
       "      <th>0</th>\n",
       "      <td>Tio's Urban Mexican</td>\n",
       "      <td>Mexican Restaurant</td>\n",
       "      <td>2584 Yonge Street</td>\n",
       "      <td>43.714630</td>\n",
       "      <td>-79.400000</td>\n",
       "      <td>[{'label': 'display', 'lat': 43.71463, 'lng': ...</td>\n",
       "      <td>464</td>\n",
       "      <td>CA</td>\n",
       "      <td>Toronto</td>\n",
       "      <td>ON</td>\n",
       "      <td>Canada</td>\n",
       "      <td>[2584 Yonge Street, Toronto ON, Canada]</td>\n",
       "      <td>5738efd3498ef5d2444c477e</td>\n",
       "    </tr>\n",
       "    <tr>\n",
       "      <th>1</th>\n",
       "      <td>Chipotle Mexican Grill</td>\n",
       "      <td>Mexican Restaurant</td>\n",
       "      <td>NaN</td>\n",
       "      <td>43.708152</td>\n",
       "      <td>-79.398278</td>\n",
       "      <td>[{'label': 'display', 'lat': 43.70815173828545...</td>\n",
       "      <td>1001</td>\n",
       "      <td>CA</td>\n",
       "      <td>Toronto</td>\n",
       "      <td>ON</td>\n",
       "      <td>Canada</td>\n",
       "      <td>[Toronto ON, Canada]</td>\n",
       "      <td>55e648c2498e05836b7febc5</td>\n",
       "    </tr>\n",
       "    <tr>\n",
       "      <th>2</th>\n",
       "      <td>Chimichanga: Mexican Grill &amp; Tequila Bar</td>\n",
       "      <td>Mexican Restaurant</td>\n",
       "      <td>NaN</td>\n",
       "      <td>43.708272</td>\n",
       "      <td>-79.399030</td>\n",
       "      <td>[{'label': 'display', 'lat': 43.70827233934408...</td>\n",
       "      <td>955</td>\n",
       "      <td>CA</td>\n",
       "      <td>Toronto</td>\n",
       "      <td>ON</td>\n",
       "      <td>Canada</td>\n",
       "      <td>[Toronto ON, Canada]</td>\n",
       "      <td>4e505fa5ae6051db8ddacc02</td>\n",
       "    </tr>\n",
       "  </tbody>\n",
       "</table>\n",
       "</div>"
      ],
      "text/plain": [
       "                                       name          categories  \\\n",
       "0                       Tio's Urban Mexican  Mexican Restaurant   \n",
       "1                    Chipotle Mexican Grill  Mexican Restaurant   \n",
       "2  Chimichanga: Mexican Grill & Tequila Bar  Mexican Restaurant   \n",
       "\n",
       "             address        lat        lng  \\\n",
       "0  2584 Yonge Street  43.714630 -79.400000   \n",
       "1                NaN  43.708152 -79.398278   \n",
       "2                NaN  43.708272 -79.399030   \n",
       "\n",
       "                                      labeledLatLngs  distance  cc     city  \\\n",
       "0  [{'label': 'display', 'lat': 43.71463, 'lng': ...       464  CA  Toronto   \n",
       "1  [{'label': 'display', 'lat': 43.70815173828545...      1001  CA  Toronto   \n",
       "2  [{'label': 'display', 'lat': 43.70827233934408...       955  CA  Toronto   \n",
       "\n",
       "  state country                         formattedAddress  \\\n",
       "0    ON  Canada  [2584 Yonge Street, Toronto ON, Canada]   \n",
       "1    ON  Canada                     [Toronto ON, Canada]   \n",
       "2    ON  Canada                     [Toronto ON, Canada]   \n",
       "\n",
       "                         id  \n",
       "0  5738efd3498ef5d2444c477e  \n",
       "1  55e648c2498e05836b7febc5  \n",
       "2  4e505fa5ae6051db8ddacc02  "
      ]
     },
     "execution_count": 12,
     "metadata": {},
     "output_type": "execute_result"
    }
   ],
   "source": [
    "# filter the category for each row\n",
    "dataframe_filtered['categories'] = dataframe_filtered.apply(get_category_type, axis=1)\n",
    "\n",
    "# clean column names by keeping only last term\n",
    "dataframe_filtered.columns = [column.split('.')[-1] for column in dataframe_filtered.columns]\n",
    "\n",
    "dataframe_filtered"
   ]
  },
  {
   "cell_type": "markdown",
   "metadata": {},
   "source": [
    "## Save Mexican Restaurants to CSV File"
   ]
  },
  {
   "cell_type": "code",
   "execution_count": 13,
   "metadata": {},
   "outputs": [],
   "source": [
    "dataframe_filtered.to_csv('MexicanNTorontoWL.csv', index=False) "
   ]
  },
  {
   "cell_type": "markdown",
   "metadata": {
    "button": false,
    "new_sheet": false,
    "run_control": {
     "read_only": false
    }
   },
   "source": [
    "#### Let's visualize the restaurants that are nearby\n"
   ]
  },
  {
   "cell_type": "code",
   "execution_count": 14,
   "metadata": {
    "button": false,
    "collapsed": false,
    "jupyter": {
     "outputs_hidden": false
    },
    "new_sheet": false,
    "run_control": {
     "read_only": false
    }
   },
   "outputs": [
    {
     "data": {
      "text/plain": [
       "0                         Tio's Urban Mexican\n",
       "1                      Chipotle Mexican Grill\n",
       "2    Chimichanga: Mexican Grill & Tequila Bar\n",
       "Name: name, dtype: object"
      ]
     },
     "execution_count": 14,
     "metadata": {},
     "output_type": "execute_result"
    }
   ],
   "source": [
    "dataframe_filtered.name"
   ]
  },
  {
   "cell_type": "code",
   "execution_count": 15,
   "metadata": {
    "button": false,
    "collapsed": false,
    "jupyter": {
     "outputs_hidden": false
    },
    "new_sheet": false,
    "run_control": {
     "read_only": false
    },
    "scrolled": true
   },
   "outputs": [
    {
     "data": {
      "text/html": [
       "<div style=\"width:100%;\"><div style=\"position:relative;width:100%;height:0;padding-bottom:60%;\"><span style=\"color:#565656\">Make this Notebook Trusted to load map: File -> Trust Notebook</span><iframe src=\"about:blank\" style=\"position:absolute;width:100%;height:100%;left:0;top:0;border:none !important;\" data-html=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 onload=\"this.contentDocument.open();this.contentDocument.write(atob(this.getAttribute('data-html')));this.contentDocument.close();\" allowfullscreen webkitallowfullscreen mozallowfullscreen></iframe></div></div>"
      ],
      "text/plain": [
       "<folium.folium.Map at 0x7f1993530b00>"
      ]
     },
     "execution_count": 15,
     "metadata": {},
     "output_type": "execute_result"
    }
   ],
   "source": [
    "venues_map = []\n",
    "venues_map = folium.Map(location=[latitude, longitude], zoom_start=13) # generate map centred around the North Toronto\n",
    "\n",
    "# add a red circle marker to represent the Conrad Hotel\n",
    "folium.CircleMarker(\n",
    "    [latitude, longitude],\n",
    "    radius=10,\n",
    "    color='red',\n",
    "    popup='North Toronto',\n",
    "    fill = True,\n",
    "    fill_color = 'red',\n",
    "    fill_opacity = 0.6\n",
    ").add_to(venues_map)\n",
    "\n",
    "# add the Italian restaurants as blue circle markers\n",
    "for lat, lng, label in zip(dataframe_filtered.lat, dataframe_filtered.lng, dataframe_filtered.name):\n",
    "    folium.CircleMarker(\n",
    "        [lat, lng],\n",
    "        radius=5,\n",
    "        color='blue',\n",
    "        popup=label.replace(\"'\",\"_\"),\n",
    "        fill = True,\n",
    "        fill_color='blue',\n",
    "        fill_opacity=0.6\n",
    "    ).add_to(venues_map)\n",
    "    \n",
    "\n",
    "# display map\n",
    "venues_map"
   ]
  },
  {
   "cell_type": "markdown",
   "metadata": {
    "button": false,
    "new_sheet": false,
    "run_control": {
     "read_only": false
    }
   },
   "source": [
    "<a ><img src = \"https://github.com/kmiralles/Captstone-Data-Science/blob/main/NorthTorontoMexRes.png?raw=true\" > </a>\n"
   ]
  },
  {
   "cell_type": "markdown",
   "metadata": {
    "button": false,
    "new_sheet": false,
    "run_control": {
     "read_only": false
    }
   },
   "source": [
    "<a id=\"item2\"></a>\n"
   ]
  },
  {
   "cell_type": "markdown",
   "metadata": {
    "button": false,
    "new_sheet": false,
    "run_control": {
     "read_only": false
    }
   },
   "source": [
    "## 2. Explore a Given Venue\n",
    "\n",
    "> `https://api.foursquare.com/v2/venues/`**VENUE_ID**`?client_id=`**CLIENT_ID**`&client_secret=`**CLIENT_SECRET**`&v=`**VERSION**\n"
   ]
  },
  {
   "cell_type": "markdown",
   "metadata": {
    "button": false,
    "new_sheet": false,
    "run_control": {
     "read_only": false
    }
   },
   "source": [
    "### A. Let's explore the closest Mexican restaurant -- _Tio's Urban Mexican_\n"
   ]
  },
  {
   "cell_type": "code",
   "execution_count": 16,
   "metadata": {
    "button": false,
    "collapsed": false,
    "jupyter": {
     "outputs_hidden": false
    },
    "new_sheet": false,
    "run_control": {
     "read_only": false
    }
   },
   "outputs": [],
   "source": [
    "venue_id = '5738efd3498ef5d2444c477e' # ID of Tio's Urban Mexican\n",
    "url = 'https://api.foursquare.com/v2/venues/{}?client_id={}&client_secret={}&oauth_token={}&v={}'.format(venue_id, CLIENT_ID, CLIENT_SECRET,ACCESS_TOKEN, VERSION)\n"
   ]
  },
  {
   "cell_type": "markdown",
   "metadata": {
    "button": false,
    "new_sheet": false,
    "run_control": {
     "read_only": false
    }
   },
   "source": [
    "#### Send GET request for result\n"
   ]
  },
  {
   "cell_type": "code",
   "execution_count": 17,
   "metadata": {
    "button": false,
    "collapsed": false,
    "jupyter": {
     "outputs_hidden": false
    },
    "new_sheet": false,
    "run_control": {
     "read_only": false
    }
   },
   "outputs": [
    {
     "name": "stdout",
     "output_type": "stream",
     "text": [
      "dict_keys(['id', 'name', 'contact', 'location', 'canonicalUrl', 'categories', 'verified', 'stats', 'price', 'likes', 'like', 'dislike', 'ok', 'rating', 'ratingColor', 'ratingSignals', 'allowMenuUrlEdit', 'beenHere', 'specials', 'photos', 'reasons', 'hereNow', 'createdAt', 'tips', 'shortUrl', 'timeZone', 'listed', 'seasonalHours', 'pageUpdates', 'inbox', 'attributes', 'bestPhoto', 'colors'])\n"
     ]
    },
    {
     "data": {
      "text/plain": [
       "{'id': '5738efd3498ef5d2444c477e',\n",
       " 'name': \"Tio's Urban Mexican\",\n",
       " 'contact': {},\n",
       " 'location': {'address': '2584 Yonge Street',\n",
       "  'lat': 43.71463,\n",
       "  'lng': -79.4,\n",
       "  'labeledLatLngs': [{'label': 'display', 'lat': 43.71463, 'lng': -79.4}],\n",
       "  'cc': 'CA',\n",
       "  'city': 'Toronto',\n",
       "  'state': 'ON',\n",
       "  'country': 'Canada',\n",
       "  'formattedAddress': ['2584 Yonge Street', 'Toronto ON', 'Canada']},\n",
       " 'canonicalUrl': 'https://foursquare.com/v/tios-urban-mexican/5738efd3498ef5d2444c477e',\n",
       " 'categories': [{'id': '4bf58dd8d48988d1c1941735',\n",
       "   'name': 'Mexican Restaurant',\n",
       "   'pluralName': 'Mexican Restaurants',\n",
       "   'shortName': 'Mexican',\n",
       "   'icon': {'prefix': 'https://ss3.4sqi.net/img/categories_v2/food/mexican_',\n",
       "    'suffix': '.png'},\n",
       "   'primary': True}],\n",
       " 'verified': False,\n",
       " 'stats': {'tipCount': 1},\n",
       " 'price': {'tier': 1, 'message': 'Cheap', 'currency': '$'},\n",
       " 'likes': {'count': 6,\n",
       "  'groups': [{'type': 'others',\n",
       "    'count': 6,\n",
       "    'items': [{'id': '150876',\n",
       "      'firstName': 'Patrick',\n",
       "      'lastName': 'Delongchamp',\n",
       "      'gender': 'male',\n",
       "      'countryCode': 'CA',\n",
       "      'photo': {'prefix': 'https://fastly.4sqi.net/img/user/',\n",
       "       'suffix': '/150876-1LHVMQXKTNFUOGRV.jpg'}},\n",
       "     {'id': '53627756',\n",
       "      'firstName': 'Norman',\n",
       "      'lastName': 'Dobravsky',\n",
       "      'gender': 'male',\n",
       "      'countryCode': 'MX',\n",
       "      'photo': {'prefix': 'https://fastly.4sqi.net/img/user/',\n",
       "       'suffix': '/53627756-KFYDZR4FSQLAZTAM.jpg'}},\n",
       "     {'id': '61283777',\n",
       "      'firstName': 'François',\n",
       "      'gender': 'none',\n",
       "      'countryCode': 'CA',\n",
       "      'photo': {'prefix': 'https://fastly.4sqi.net/img/user/',\n",
       "       'suffix': '/-YNGELUF5TJNZNH4U.jpg'}},\n",
       "     {'id': '65519435',\n",
       "      'firstName': 'Gonzalve',\n",
       "      'gender': 'male',\n",
       "      'countryCode': 'CA',\n",
       "      'photo': {'prefix': 'https://fastly.4sqi.net/img/user/',\n",
       "       'suffix': '/65519435-Y2KMJTKOPNO5JUD5.jpg'}}]}],\n",
       "  'summary': 'Patrick Delongchamp, Norman Dobravsky, François & 3 others'},\n",
       " 'like': False,\n",
       " 'dislike': False,\n",
       " 'ok': False,\n",
       " 'rating': 7.3,\n",
       " 'ratingColor': 'C5DE35',\n",
       " 'ratingSignals': 8,\n",
       " 'allowMenuUrlEdit': True,\n",
       " 'beenHere': {'count': 0,\n",
       "  'unconfirmedCount': 0,\n",
       "  'marked': False,\n",
       "  'lastCheckinExpiredAt': 0},\n",
       " 'specials': {'count': 0, 'items': []},\n",
       " 'photos': {'count': 10,\n",
       "  'groups': [{'type': 'venue',\n",
       "    'name': 'Venue photos',\n",
       "    'count': 10,\n",
       "    'items': [{'id': '5abfddbc60d11b070d6a8bc1',\n",
       "      'createdAt': 1522523580,\n",
       "      'source': {'name': 'Foursquare for iOS',\n",
       "       'url': 'https://foursquare.com/download/#/iphone'},\n",
       "      'prefix': 'https://fastly.4sqi.net/img/general/',\n",
       "      'suffix': '/53627756_N29spbnBGdB4DXxYqiLr-zDjjXf2OD-rNn0KmDeye_Y.jpg',\n",
       "      'width': 1920,\n",
       "      'height': 1440,\n",
       "      'user': {'id': '53627756',\n",
       "       'firstName': 'Norman',\n",
       "       'lastName': 'Dobravsky',\n",
       "       'gender': 'male',\n",
       "       'countryCode': 'MX',\n",
       "       'photo': {'prefix': 'https://fastly.4sqi.net/img/user/',\n",
       "        'suffix': '/53627756-KFYDZR4FSQLAZTAM.jpg'}},\n",
       "      'visibility': 'public'},\n",
       "     {'id': '59a3100da8eb606ea88429ea',\n",
       "      'createdAt': 1503858701,\n",
       "      'source': {'name': 'Foursquare for iOS',\n",
       "       'url': 'https://foursquare.com/download/#/iphone'},\n",
       "      'prefix': 'https://fastly.4sqi.net/img/general/',\n",
       "      'suffix': '/65519435_snhRavZFDU2UH0Qp9k-Jlygw8wvs41HZli6KIgAnMlc.jpg',\n",
       "      'width': 1440,\n",
       "      'height': 1920,\n",
       "      'user': {'id': '65519435',\n",
       "       'firstName': 'Gonzalve',\n",
       "       'gender': 'male',\n",
       "       'countryCode': 'CA',\n",
       "       'photo': {'prefix': 'https://fastly.4sqi.net/img/user/',\n",
       "        'suffix': '/65519435-Y2KMJTKOPNO5JUD5.jpg'}},\n",
       "      'visibility': 'public'}]}]},\n",
       " 'reasons': {'count': 0, 'items': []},\n",
       " 'hereNow': {'count': 0, 'summary': 'Nobody here', 'groups': []},\n",
       " 'createdAt': 1463349203,\n",
       " 'tips': {'count': 1,\n",
       "  'groups': [{'type': 'following',\n",
       "    'name': 'Tips from people you follow',\n",
       "    'count': 0,\n",
       "    'items': []},\n",
       "   {'type': 'others',\n",
       "    'name': 'All tips',\n",
       "    'count': 1,\n",
       "    'items': [{'id': '5abfddbab3c9612fe5e61db8',\n",
       "      'createdAt': 1522523578,\n",
       "      'text': 'The queso fundido con chorizo and the enchiladas were very good! Also ask for the “fuego” and “verde” salsas. They were excellent',\n",
       "      'type': 'user',\n",
       "      'canonicalUrl': 'https://foursquare.com/item/5abfddbab3c9612fe5e61db8',\n",
       "      'photo': {'id': '5abfddbc60d11b070d6a8bc1',\n",
       "       'createdAt': 1522523580,\n",
       "       'source': {'name': 'Foursquare for iOS',\n",
       "        'url': 'https://foursquare.com/download/#/iphone'},\n",
       "       'prefix': 'https://fastly.4sqi.net/img/general/',\n",
       "       'suffix': '/53627756_N29spbnBGdB4DXxYqiLr-zDjjXf2OD-rNn0KmDeye_Y.jpg',\n",
       "       'width': 1920,\n",
       "       'height': 1440,\n",
       "       'visibility': 'public'},\n",
       "      'photourl': 'https://fastly.4sqi.net/img/general/original/53627756_N29spbnBGdB4DXxYqiLr-zDjjXf2OD-rNn0KmDeye_Y.jpg',\n",
       "      'likes': {'count': 0, 'groups': []},\n",
       "      'like': False,\n",
       "      'logView': True,\n",
       "      'agreeCount': 0,\n",
       "      'disagreeCount': 0,\n",
       "      'todo': {'count': 0},\n",
       "      'user': {'id': '53627756',\n",
       "       'firstName': 'Norman',\n",
       "       'lastName': 'Dobravsky',\n",
       "       'gender': 'male',\n",
       "       'countryCode': 'MX',\n",
       "       'photo': {'prefix': 'https://fastly.4sqi.net/img/user/',\n",
       "        'suffix': '/53627756-KFYDZR4FSQLAZTAM.jpg'}},\n",
       "      'authorInteractionType': 'liked'}]}]},\n",
       " 'shortUrl': 'http://4sq.com/24TDclZ',\n",
       " 'timeZone': 'America/Toronto',\n",
       " 'listed': {'count': 1,\n",
       "  'groups': [{'type': 'others',\n",
       "    'name': 'Lists from other people',\n",
       "    'count': 1,\n",
       "    'items': [{'id': '5e46914d498a450006bd6f07',\n",
       "      'name': 'Top 5 Neighbourhood for Mexican Restaurants',\n",
       "      'description': '',\n",
       "      'type': 'others',\n",
       "      'user': {'id': '16591132',\n",
       "       'firstName': 'Elizabeth',\n",
       "       'lastName': 'Violante',\n",
       "       'gender': 'female',\n",
       "       'countryCode': 'CA',\n",
       "       'photo': {'prefix': 'https://fastly.4sqi.net/img/user/',\n",
       "        'suffix': '/16591132-XOMLSRS3TERMFWJE.jpg'}},\n",
       "      'editable': False,\n",
       "      'public': True,\n",
       "      'collaborative': False,\n",
       "      'url': '/emviolante/list/top-5-neighbourhood-for-mexican-restaurants',\n",
       "      'canonicalUrl': 'https://foursquare.com/emviolante/list/top-5-neighbourhood-for-mexican-restaurants',\n",
       "      'createdAt': 1581683021,\n",
       "      'updatedAt': 1581683396,\n",
       "      'followers': {'count': 0},\n",
       "      'listItems': {'count': 27,\n",
       "       'items': [{'id': 'v5738efd3498ef5d2444c477e',\n",
       "         'createdAt': 1581683315}]}}]}]},\n",
       " 'seasonalHours': [],\n",
       " 'pageUpdates': {'count': 0, 'items': []},\n",
       " 'inbox': {'count': 0, 'items': []},\n",
       " 'attributes': {'groups': [{'type': 'price',\n",
       "    'name': 'Price',\n",
       "    'summary': '$',\n",
       "    'count': 1,\n",
       "    'items': [{'displayName': 'Price', 'displayValue': '$', 'priceTier': 1}]},\n",
       "   {'type': 'payments',\n",
       "    'name': 'Credit Cards',\n",
       "    'summary': 'Credit Cards',\n",
       "    'count': 5,\n",
       "    'items': [{'displayName': 'Credit Cards', 'displayValue': 'Yes'}]},\n",
       "   {'type': 'outdoorSeating',\n",
       "    'name': 'Outdoor Seating',\n",
       "    'count': 1,\n",
       "    'items': [{'displayName': 'Outdoor Seating', 'displayValue': 'No'}]},\n",
       "   {'type': 'serves',\n",
       "    'name': 'Menus',\n",
       "    'summary': 'Lunch & Dinner',\n",
       "    'count': 8,\n",
       "    'items': [{'displayName': 'Lunch', 'displayValue': 'Lunch'},\n",
       "     {'displayName': 'Dinner', 'displayValue': 'Dinner'}]},\n",
       "   {'type': 'drinks',\n",
       "    'name': 'Drinks',\n",
       "    'summary': 'Beer, Wine & Cocktails',\n",
       "    'count': 5,\n",
       "    'items': [{'displayName': 'Beer', 'displayValue': 'Beer'},\n",
       "     {'displayName': 'Wine', 'displayValue': 'Wine'},\n",
       "     {'displayName': 'Cocktails', 'displayValue': 'Cocktails'}]},\n",
       "   {'type': 'diningOptions',\n",
       "    'name': 'Dining Options',\n",
       "    'summary': 'Bar Service & Take-out',\n",
       "    'count': 5,\n",
       "    'items': [{'displayName': 'Bar Service', 'displayValue': 'Bar Service'},\n",
       "     {'displayName': 'Take-out', 'displayValue': 'Take-out'}]}]},\n",
       " 'bestPhoto': {'id': '5abfddbc60d11b070d6a8bc1',\n",
       "  'createdAt': 1522523580,\n",
       "  'source': {'name': 'Foursquare for iOS',\n",
       "   'url': 'https://foursquare.com/download/#/iphone'},\n",
       "  'prefix': 'https://fastly.4sqi.net/img/general/',\n",
       "  'suffix': '/53627756_N29spbnBGdB4DXxYqiLr-zDjjXf2OD-rNn0KmDeye_Y.jpg',\n",
       "  'width': 1920,\n",
       "  'height': 1440,\n",
       "  'visibility': 'public'},\n",
       " 'colors': {'highlightColor': {'photoId': '5abfddbc60d11b070d6a8bc1',\n",
       "   'value': -15722456},\n",
       "  'highlightTextColor': {'photoId': '5abfddbc60d11b070d6a8bc1', 'value': -1},\n",
       "  'algoVersion': 3}}"
      ]
     },
     "execution_count": 17,
     "metadata": {},
     "output_type": "execute_result"
    }
   ],
   "source": [
    "result = requests.get(url).json()\n",
    "print(result['response']['venue'].keys())\n",
    "result['response']['venue']"
   ]
  },
  {
   "cell_type": "markdown",
   "metadata": {},
   "source": [
    "## Save Requesto to JSON File"
   ]
  },
  {
   "cell_type": "code",
   "execution_count": 18,
   "metadata": {},
   "outputs": [],
   "source": [
    "with open('AMexicanNTorontoWL.json', 'w') as f:\n",
    "    json.dump(result, f)"
   ]
  },
  {
   "cell_type": "markdown",
   "metadata": {
    "button": false,
    "new_sheet": false,
    "run_control": {
     "read_only": false
    }
   },
   "source": [
    "### B. Get the venue's overall rating\n"
   ]
  },
  {
   "cell_type": "code",
   "execution_count": 19,
   "metadata": {
    "button": false,
    "collapsed": false,
    "jupyter": {
     "outputs_hidden": false
    },
    "new_sheet": false,
    "run_control": {
     "read_only": false
    }
   },
   "outputs": [
    {
     "name": "stdout",
     "output_type": "stream",
     "text": [
      "7.3\n"
     ]
    }
   ],
   "source": [
    "try:\n",
    "    print(result['response']['venue']['rating'])\n",
    "except:\n",
    "    print('This venue has not been rated yet.')"
   ]
  },
  {
   "cell_type": "markdown",
   "metadata": {
    "button": false,
    "new_sheet": false,
    "run_control": {
     "read_only": false
    }
   },
   "source": [
    "That is not a very good rating. Let's check the rating of the second closest Italian restaurant.\n"
   ]
  },
  {
   "cell_type": "code",
   "execution_count": 20,
   "metadata": {
    "button": false,
    "collapsed": false,
    "jupyter": {
     "outputs_hidden": false
    },
    "new_sheet": false,
    "run_control": {
     "read_only": false
    }
   },
   "outputs": [
    {
     "name": "stdout",
     "output_type": "stream",
     "text": [
      "This venue has not been rated yet.\n"
     ]
    }
   ],
   "source": [
    "venue_id = '4e505fa5ae6051db8ddacc02' # ID of Chimichanga: Mexican Grill & Tequila Bar\n",
    "url = 'https://api.foursquare.com/v2/venues/{}?client_id={}&client_secret={}&oauth_token={}&v={}'.format(venue_id, CLIENT_ID, CLIENT_SECRET,ACCESS_TOKEN, VERSION)\n",
    "\n",
    "result = requests.get(url).json()\n",
    "try:\n",
    "    print(result['response']['venue']['rating'])\n",
    "except:\n",
    "    print('This venue has not been rated yet.')"
   ]
  },
  {
   "cell_type": "markdown",
   "metadata": {
    "button": false,
    "new_sheet": false,
    "run_control": {
     "read_only": false
    }
   },
   "source": [
    "Since this restaurant has no ratings, let's check the third restaurant.\n"
   ]
  },
  {
   "cell_type": "code",
   "execution_count": 21,
   "metadata": {
    "button": false,
    "collapsed": false,
    "jupyter": {
     "outputs_hidden": false
    },
    "new_sheet": false,
    "run_control": {
     "read_only": false
    }
   },
   "outputs": [
    {
     "name": "stdout",
     "output_type": "stream",
     "text": [
      "7.5\n"
     ]
    }
   ],
   "source": [
    "venue_id = '55e648c2498e05836b7febc5' # ID of Chipotle Mexican Grill\n",
    "url = 'https://api.foursquare.com/v2/venues/{}?client_id={}&client_secret={}&oauth_token={}&v={}'.format(venue_id, CLIENT_ID, CLIENT_SECRET,ACCESS_TOKEN, VERSION)\n",
    "\n",
    "result = requests.get(url).json()\n",
    "try:\n",
    "    print(result['response']['venue']['rating'])\n",
    "except:\n",
    "    print('This venue has not been rated yet.')"
   ]
  },
  {
   "cell_type": "markdown",
   "metadata": {
    "button": false,
    "new_sheet": false,
    "run_control": {
     "read_only": false
    }
   },
   "source": [
    "Since this restaurant has a slightly better rating, let's explore it further.\n"
   ]
  },
  {
   "cell_type": "markdown",
   "metadata": {
    "button": false,
    "new_sheet": false,
    "run_control": {
     "read_only": false
    }
   },
   "source": [
    "### C. Get the number of tips\n"
   ]
  },
  {
   "cell_type": "code",
   "execution_count": 22,
   "metadata": {
    "button": false,
    "collapsed": false,
    "jupyter": {
     "outputs_hidden": false
    },
    "new_sheet": false,
    "run_control": {
     "read_only": false
    }
   },
   "outputs": [
    {
     "data": {
      "text/plain": [
       "2"
      ]
     },
     "execution_count": 22,
     "metadata": {},
     "output_type": "execute_result"
    }
   ],
   "source": [
    "result['response']['venue']['tips']['count']"
   ]
  },
  {
   "cell_type": "markdown",
   "metadata": {
    "button": false,
    "new_sheet": false,
    "run_control": {
     "read_only": false
    }
   },
   "source": [
    "### D. Get the venue's tips\n",
    "\n",
    "> `https://api.foursquare.com/v2/venues/`**VENUE_ID**`/tips?client_id=`**CLIENT_ID**`&client_secret=`**CLIENT_SECRET**`&v=`**VERSION**`&limit=`**LIMIT**\n"
   ]
  },
  {
   "cell_type": "markdown",
   "metadata": {
    "button": false,
    "new_sheet": false,
    "run_control": {
     "read_only": false
    }
   },
   "source": [
    "#### Create URL and send GET request. Make sure to set limit to get all tips\n"
   ]
  },
  {
   "cell_type": "code",
   "execution_count": 23,
   "metadata": {
    "button": false,
    "collapsed": false,
    "jupyter": {
     "outputs_hidden": false
    },
    "new_sheet": false,
    "run_control": {
     "read_only": false
    }
   },
   "outputs": [
    {
     "data": {
      "text/plain": [
       "{'meta': {'code': 200, 'requestId': '60046e9a2514a90284594f9f'},\n",
       " 'notifications': [{'type': 'notificationTray', 'item': {'unreadCount': 11}}],\n",
       " 'response': {'tips': {'count': 2,\n",
       "   'items': [{'id': '58e5d067ce593d374e64cd86',\n",
       "     'createdAt': 1491456103,\n",
       "     'text': 'Service staff are a little distracted, but they get the job done. You can totally ask for extra cilantro if you want, too!',\n",
       "     'type': 'user',\n",
       "     'canonicalUrl': 'https://foursquare.com/item/58e5d067ce593d374e64cd86',\n",
       "     'likes': {'count': 0, 'groups': []},\n",
       "     'like': False,\n",
       "     'logView': True,\n",
       "     'agreeCount': 1,\n",
       "     'disagreeCount': 0,\n",
       "     'todo': {'count': 0},\n",
       "     'user': {'id': '143609997',\n",
       "      'firstName': 'Ken',\n",
       "      'lastName': 'Snider',\n",
       "      'gender': 'male',\n",
       "      'countryCode': 'US',\n",
       "      'photo': {'prefix': 'https://fastly.4sqi.net/img/user/',\n",
       "       'suffix': '/143609997_0C8Eh6Dj_1Tf5-rQ4MCrDROSzpI2cmn8P0C2KkdCi4YinuzDvs7C4bRjFbGTbsAwNQe79MFR-.jpg'}},\n",
       "     'authorInteractionType': 'liked'},\n",
       "    {'id': '5b0596b8d1a40265fe464f8c',\n",
       "     'createdAt': 1527092920,\n",
       "     'text': 'My favorite lunch place. Order online and skip the line',\n",
       "     'type': 'user',\n",
       "     'canonicalUrl': 'https://foursquare.com/item/5b0596b8d1a40265fe464f8c',\n",
       "     'likes': {'count': 0, 'groups': []},\n",
       "     'like': False,\n",
       "     'logView': True,\n",
       "     'agreeCount': 0,\n",
       "     'disagreeCount': 0,\n",
       "     'todo': {'count': 0},\n",
       "     'user': {'id': '95706398',\n",
       "      'firstName': 'Konstantin',\n",
       "      'lastName': 'Sokovykh',\n",
       "      'gender': 'male',\n",
       "      'countryCode': 'CA',\n",
       "      'photo': {'prefix': 'https://fastly.4sqi.net/img/user/',\n",
       "       'suffix': '/95706398-OJLZT301TF15BSZU.jpg'}},\n",
       "     'authorInteractionType': 'liked'}]}}}"
      ]
     },
     "execution_count": 23,
     "metadata": {},
     "output_type": "execute_result"
    }
   ],
   "source": [
    "## Chipotle Mexican Grill\n",
    "limit = 30 # set limit to be greater than or equal to the total number of tips\n",
    "url = 'https://api.foursquare.com/v2/venues/{}/tips?client_id={}&client_secret={}&oauth_token={}&v={}&limit={}'.format(venue_id, CLIENT_ID, CLIENT_SECRET,ACCESS_TOKEN, VERSION, limit)\n",
    "\n",
    "results = requests.get(url).json()\n",
    "results"
   ]
  },
  {
   "cell_type": "markdown",
   "metadata": {
    "button": false,
    "new_sheet": false,
    "run_control": {
     "read_only": false
    }
   },
   "source": [
    "#### Get tips and list of associated features\n"
   ]
  },
  {
   "cell_type": "code",
   "execution_count": 24,
   "metadata": {
    "button": false,
    "collapsed": false,
    "jupyter": {
     "outputs_hidden": false
    },
    "new_sheet": false,
    "run_control": {
     "read_only": false
    }
   },
   "outputs": [
    {
     "data": {
      "text/plain": [
       "dict_keys(['id', 'createdAt', 'text', 'type', 'canonicalUrl', 'likes', 'like', 'logView', 'agreeCount', 'disagreeCount', 'todo', 'user', 'authorInteractionType'])"
      ]
     },
     "execution_count": 24,
     "metadata": {},
     "output_type": "execute_result"
    }
   ],
   "source": [
    "tips = results['response']['tips']['items']\n",
    "\n",
    "tip = results['response']['tips']['items'][0]\n",
    "tip.keys()"
   ]
  },
  {
   "cell_type": "markdown",
   "metadata": {
    "button": false,
    "new_sheet": false,
    "run_control": {
     "read_only": false
    }
   },
   "source": [
    "#### Format column width and display all tips\n"
   ]
  },
  {
   "cell_type": "code",
   "execution_count": 25,
   "metadata": {
    "button": false,
    "collapsed": false,
    "jupyter": {
     "outputs_hidden": false
    },
    "new_sheet": false,
    "run_control": {
     "read_only": false
    }
   },
   "outputs": [
    {
     "name": "stderr",
     "output_type": "stream",
     "text": [
      "/home/jupyterlab/conda/envs/python/lib/python3.6/site-packages/ipykernel_launcher.py:1: FutureWarning: Passing a negative integer is deprecated in version 1.0 and will not be supported in future version. Instead, use None to not limit the column width.\n",
      "  \"\"\"Entry point for launching an IPython kernel.\n",
      "/home/jupyterlab/conda/envs/python/lib/python3.6/site-packages/ipykernel_launcher.py:3: FutureWarning: pandas.io.json.json_normalize is deprecated, use pandas.json_normalize instead\n",
      "  This is separate from the ipykernel package so we can avoid doing imports until\n"
     ]
    },
    {
     "data": {
      "text/html": [
       "<div>\n",
       "<style scoped>\n",
       "    .dataframe tbody tr th:only-of-type {\n",
       "        vertical-align: middle;\n",
       "    }\n",
       "\n",
       "    .dataframe tbody tr th {\n",
       "        vertical-align: top;\n",
       "    }\n",
       "\n",
       "    .dataframe thead th {\n",
       "        text-align: right;\n",
       "    }\n",
       "</style>\n",
       "<table border=\"1\" class=\"dataframe\">\n",
       "  <thead>\n",
       "    <tr style=\"text-align: right;\">\n",
       "      <th></th>\n",
       "      <th>text</th>\n",
       "      <th>agreeCount</th>\n",
       "      <th>disagreeCount</th>\n",
       "      <th>id</th>\n",
       "      <th>user.firstName</th>\n",
       "      <th>user.lastName</th>\n",
       "      <th>user.id</th>\n",
       "    </tr>\n",
       "  </thead>\n",
       "  <tbody>\n",
       "    <tr>\n",
       "      <th>0</th>\n",
       "      <td>Service staff are a little distracted, but they get the job done. You can totally ask for extra cilantro if you want, too!</td>\n",
       "      <td>1</td>\n",
       "      <td>0</td>\n",
       "      <td>58e5d067ce593d374e64cd86</td>\n",
       "      <td>Ken</td>\n",
       "      <td>Snider</td>\n",
       "      <td>143609997</td>\n",
       "    </tr>\n",
       "    <tr>\n",
       "      <th>1</th>\n",
       "      <td>My favorite lunch place. Order online and skip the line</td>\n",
       "      <td>0</td>\n",
       "      <td>0</td>\n",
       "      <td>5b0596b8d1a40265fe464f8c</td>\n",
       "      <td>Konstantin</td>\n",
       "      <td>Sokovykh</td>\n",
       "      <td>95706398</td>\n",
       "    </tr>\n",
       "  </tbody>\n",
       "</table>\n",
       "</div>"
      ],
      "text/plain": [
       "                                                                                                                         text  \\\n",
       "0  Service staff are a little distracted, but they get the job done. You can totally ask for extra cilantro if you want, too!   \n",
       "1  My favorite lunch place. Order online and skip the line                                                                      \n",
       "\n",
       "   agreeCount  disagreeCount                        id user.firstName  \\\n",
       "0  1           0              58e5d067ce593d374e64cd86  Ken             \n",
       "1  0           0              5b0596b8d1a40265fe464f8c  Konstantin      \n",
       "\n",
       "  user.lastName    user.id  \n",
       "0  Snider        143609997  \n",
       "1  Sokovykh      95706398   "
      ]
     },
     "execution_count": 25,
     "metadata": {},
     "output_type": "execute_result"
    }
   ],
   "source": [
    "pd.set_option('display.max_colwidth', -1)\n",
    "\n",
    "tips_df = json_normalize(tips) # json normalize tips\n",
    "\n",
    "# columns to keep\n",
    "filtered_columns = ['text', 'agreeCount', 'disagreeCount', 'id', 'user.firstName', 'user.lastName', 'user.id']\n",
    "tips_filtered = tips_df.loc[:, filtered_columns]\n",
    "\n",
    "# display tips\n",
    "tips_filtered.reindex()"
   ]
  },
  {
   "cell_type": "markdown",
   "metadata": {
    "button": false,
    "new_sheet": false,
    "run_control": {
     "read_only": false
    }
   },
   "source": [
    "Now remember that because we are using a personal developer account, then we can access only 2 of the restaurant's tips, instead of all 15 tips.\n"
   ]
  },
  {
   "cell_type": "markdown",
   "metadata": {
    "button": false,
    "new_sheet": false,
    "run_control": {
     "read_only": false
    }
   },
   "source": [
    "\n"
   ]
  },
  {
   "cell_type": "markdown",
   "metadata": {
    "button": false,
    "new_sheet": false,
    "run_control": {
     "read_only": false
    }
   },
   "source": [
    "<a id=\"item3\"></a>\n"
   ]
  },
  {
   "cell_type": "markdown",
   "metadata": {
    "button": false,
    "new_sheet": false,
    "run_control": {
     "read_only": false
    }
   },
   "source": [
    "## 3. Explore a location\n",
    "\n",
    "> `https://api.foursquare.com/v2/venues/`**explore**`?client_id=`**CLIENT_ID**`&client_secret=`**CLIENT_SECRET**`&ll=`**LATITUDE**`,`**LONGITUDE**`&v=`**VERSION**`&limit=`**LIMIT**\n"
   ]
  },
  {
   "cell_type": "markdown",
   "metadata": {
    "button": false,
    "new_sheet": false,
    "run_control": {
     "read_only": false
    }
   },
   "source": [
    "#### So, we just finished reviewing Mexican Restaurants, let's explore what Venues are 1000 meters away.\n"
   ]
  },
  {
   "cell_type": "code",
   "execution_count": 26,
   "metadata": {
    "button": false,
    "new_sheet": false,
    "run_control": {
     "read_only": false
    }
   },
   "outputs": [],
   "source": [
    "latitude = 43.7153834\n",
    "longitude = -79.4056784"
   ]
  },
  {
   "cell_type": "markdown",
   "metadata": {
    "button": false,
    "new_sheet": false,
    "run_control": {
     "read_only": false
    }
   },
   "source": [
    "#### Define URL\n"
   ]
  },
  {
   "cell_type": "code",
   "execution_count": 27,
   "metadata": {
    "button": false,
    "collapsed": false,
    "jupyter": {
     "outputs_hidden": false
    },
    "new_sheet": false,
    "run_control": {
     "read_only": false
    }
   },
   "outputs": [],
   "source": [
    "url = 'https://api.foursquare.com/v2/venues/explore?client_id={}&client_secret={}&ll={},{}&v={}&radius={}&limit={}'.format(CLIENT_ID, CLIENT_SECRET, latitude, longitude, VERSION, radius, LIMIT)\n"
   ]
  },
  {
   "cell_type": "markdown",
   "metadata": {
    "button": false,
    "new_sheet": false,
    "run_control": {
     "read_only": false
    }
   },
   "source": [
    "#### Send GET request and examine results\n"
   ]
  },
  {
   "cell_type": "code",
   "execution_count": 28,
   "metadata": {
    "button": false,
    "new_sheet": false,
    "run_control": {
     "read_only": false
    }
   },
   "outputs": [],
   "source": [
    "import requests"
   ]
  },
  {
   "cell_type": "code",
   "execution_count": 29,
   "metadata": {
    "button": false,
    "collapsed": false,
    "jupyter": {
     "outputs_hidden": false
    },
    "new_sheet": false,
    "run_control": {
     "read_only": false
    }
   },
   "outputs": [
    {
     "data": {
      "text/plain": [
       "'There are 45 around Noth Toronto West Lawrence.'"
      ]
     },
     "execution_count": 29,
     "metadata": {},
     "output_type": "execute_result"
    }
   ],
   "source": [
    "results = requests.get(url).json()\n",
    "'There are {} around Noth Toronto West Lawrence.'.format(len(results['response']['groups'][0]['items']))"
   ]
  },
  {
   "cell_type": "markdown",
   "metadata": {
    "button": false,
    "new_sheet": false,
    "run_control": {
     "read_only": false
    }
   },
   "source": [
    "#### Get relevant part of JSON\n"
   ]
  },
  {
   "cell_type": "code",
   "execution_count": 30,
   "metadata": {
    "button": false,
    "collapsed": false,
    "jupyter": {
     "outputs_hidden": false
    },
    "new_sheet": false,
    "run_control": {
     "read_only": false
    }
   },
   "outputs": [
    {
     "data": {
      "text/plain": [
       "{'reasons': {'count': 0,\n",
       "  'items': [{'summary': 'This spot is popular',\n",
       "    'type': 'general',\n",
       "    'reasonName': 'globalInteractionReason'}]},\n",
       " 'venue': {'id': '4f4d31aee4b0ef284ae397ea',\n",
       "  'name': 'Himalayan Java',\n",
       "  'location': {'address': '2552 Yonge St',\n",
       "   'crossStreet': 'Briar Hill',\n",
       "   'lat': 43.713486181375714,\n",
       "   'lng': -79.39981137215881,\n",
       "   'labeledLatLngs': [{'label': 'display',\n",
       "     'lat': 43.713486181375714,\n",
       "     'lng': -79.39981137215881}],\n",
       "   'distance': 517,\n",
       "   'cc': 'CA',\n",
       "   'city': 'Toronto',\n",
       "   'state': 'ON',\n",
       "   'country': 'Canada',\n",
       "   'formattedAddress': ['2552 Yonge St (Briar Hill)', 'Toronto ON', 'Canada']},\n",
       "  'categories': [{'id': '4bf58dd8d48988d16d941735',\n",
       "    'name': 'Café',\n",
       "    'pluralName': 'Cafés',\n",
       "    'shortName': 'Café',\n",
       "    'icon': {'prefix': 'https://ss3.4sqi.net/img/categories_v2/food/cafe_',\n",
       "     'suffix': '.png'},\n",
       "    'primary': True}],\n",
       "  'photos': {'count': 0, 'groups': []}},\n",
       " 'referralId': 'e-0-4f4d31aee4b0ef284ae397ea-0'}"
      ]
     },
     "execution_count": 30,
     "metadata": {},
     "output_type": "execute_result"
    }
   ],
   "source": [
    "items = results['response']['groups'][0]['items']\n",
    "items[0]"
   ]
  },
  {
   "cell_type": "markdown",
   "metadata": {
    "button": false,
    "new_sheet": false,
    "run_control": {
     "read_only": false
    }
   },
   "source": [
    "#### Process JSON and convert it to a clean dataframe\n"
   ]
  },
  {
   "cell_type": "code",
   "execution_count": 31,
   "metadata": {
    "button": false,
    "collapsed": false,
    "jupyter": {
     "outputs_hidden": false
    },
    "new_sheet": false,
    "run_control": {
     "read_only": false
    }
   },
   "outputs": [
    {
     "name": "stderr",
     "output_type": "stream",
     "text": [
      "/home/jupyterlab/conda/envs/python/lib/python3.6/site-packages/ipykernel_launcher.py:1: FutureWarning: pandas.io.json.json_normalize is deprecated, use pandas.json_normalize instead\n",
      "  \"\"\"Entry point for launching an IPython kernel.\n"
     ]
    },
    {
     "data": {
      "text/html": [
       "<div>\n",
       "<style scoped>\n",
       "    .dataframe tbody tr th:only-of-type {\n",
       "        vertical-align: middle;\n",
       "    }\n",
       "\n",
       "    .dataframe tbody tr th {\n",
       "        vertical-align: top;\n",
       "    }\n",
       "\n",
       "    .dataframe thead th {\n",
       "        text-align: right;\n",
       "    }\n",
       "</style>\n",
       "<table border=\"1\" class=\"dataframe\">\n",
       "  <thead>\n",
       "    <tr style=\"text-align: right;\">\n",
       "      <th></th>\n",
       "      <th>name</th>\n",
       "      <th>categories</th>\n",
       "      <th>address</th>\n",
       "      <th>crossStreet</th>\n",
       "      <th>lat</th>\n",
       "      <th>lng</th>\n",
       "      <th>labeledLatLngs</th>\n",
       "      <th>distance</th>\n",
       "      <th>cc</th>\n",
       "      <th>city</th>\n",
       "      <th>state</th>\n",
       "      <th>country</th>\n",
       "      <th>formattedAddress</th>\n",
       "      <th>postalCode</th>\n",
       "      <th>neighborhood</th>\n",
       "      <th>id</th>\n",
       "    </tr>\n",
       "  </thead>\n",
       "  <tbody>\n",
       "    <tr>\n",
       "      <th>0</th>\n",
       "      <td>Himalayan Java</td>\n",
       "      <td>Café</td>\n",
       "      <td>2552 Yonge St</td>\n",
       "      <td>Briar Hill</td>\n",
       "      <td>43.713486</td>\n",
       "      <td>-79.399811</td>\n",
       "      <td>[{'label': 'display', 'lat': 43.713486181375714, 'lng': -79.39981137215881}]</td>\n",
       "      <td>517</td>\n",
       "      <td>CA</td>\n",
       "      <td>Toronto</td>\n",
       "      <td>ON</td>\n",
       "      <td>Canada</td>\n",
       "      <td>[2552 Yonge St (Briar Hill), Toronto ON, Canada]</td>\n",
       "      <td>NaN</td>\n",
       "      <td>NaN</td>\n",
       "      <td>4f4d31aee4b0ef284ae397ea</td>\n",
       "    </tr>\n",
       "    <tr>\n",
       "      <th>1</th>\n",
       "      <td>Sheridan Nurseries</td>\n",
       "      <td>Flower Shop</td>\n",
       "      <td>2827 Yonge St.</td>\n",
       "      <td>NaN</td>\n",
       "      <td>43.719005</td>\n",
       "      <td>-79.400500</td>\n",
       "      <td>[{'label': 'display', 'lat': 43.71900479624233, 'lng': -79.40050025384096}]</td>\n",
       "      <td>579</td>\n",
       "      <td>CA</td>\n",
       "      <td>Toronto</td>\n",
       "      <td>ON</td>\n",
       "      <td>Canada</td>\n",
       "      <td>[2827 Yonge St., Toronto ON M4N 2J4, Canada]</td>\n",
       "      <td>M4N 2J4</td>\n",
       "      <td>NaN</td>\n",
       "      <td>4afdecd4f964a5201c2c22e3</td>\n",
       "    </tr>\n",
       "    <tr>\n",
       "      <th>2</th>\n",
       "      <td>De Mello Palheta Coffee Roasters</td>\n",
       "      <td>Coffee Shop</td>\n",
       "      <td>2489 Yonge St</td>\n",
       "      <td>Erksine Ave</td>\n",
       "      <td>43.711791</td>\n",
       "      <td>-79.399403</td>\n",
       "      <td>[{'label': 'display', 'lat': 43.71179137179029, 'lng': -79.39940300399607}]</td>\n",
       "      <td>644</td>\n",
       "      <td>CA</td>\n",
       "      <td>Toronto</td>\n",
       "      <td>ON</td>\n",
       "      <td>Canada</td>\n",
       "      <td>[2489 Yonge St (Erksine Ave), Toronto ON M4P 2H6, Canada]</td>\n",
       "      <td>M4P 2H6</td>\n",
       "      <td>NaN</td>\n",
       "      <td>51819802498ee3c6834b8e0b</td>\n",
       "    </tr>\n",
       "    <tr>\n",
       "      <th>3</th>\n",
       "      <td>Douce France</td>\n",
       "      <td>Bakery</td>\n",
       "      <td>2471 Yonge St</td>\n",
       "      <td>Erskine</td>\n",
       "      <td>43.711554</td>\n",
       "      <td>-79.399394</td>\n",
       "      <td>[{'label': 'display', 'lat': 43.7115544338723, 'lng': -79.3993940377493}]</td>\n",
       "      <td>661</td>\n",
       "      <td>CA</td>\n",
       "      <td>Toronto</td>\n",
       "      <td>ON</td>\n",
       "      <td>Canada</td>\n",
       "      <td>[2471 Yonge St (Erskine), Toronto ON M4P 2H6, Canada]</td>\n",
       "      <td>M4P 2H6</td>\n",
       "      <td>NaN</td>\n",
       "      <td>5207a80711d22721ffa80bfc</td>\n",
       "    </tr>\n",
       "    <tr>\n",
       "      <th>4</th>\n",
       "      <td>Starbucks</td>\n",
       "      <td>Coffee Shop</td>\n",
       "      <td>2451 Yonge St N</td>\n",
       "      <td>at Erskine Ave.</td>\n",
       "      <td>43.711039</td>\n",
       "      <td>-79.398924</td>\n",
       "      <td>[{'label': 'display', 'lat': 43.711039, 'lng': -79.398924}]</td>\n",
       "      <td>727</td>\n",
       "      <td>CA</td>\n",
       "      <td>Toronto</td>\n",
       "      <td>ON</td>\n",
       "      <td>Canada</td>\n",
       "      <td>[2451 Yonge St N (at Erskine Ave.), Toronto ON M4P 2E7, Canada]</td>\n",
       "      <td>M4P 2E7</td>\n",
       "      <td>NaN</td>\n",
       "      <td>4aec6b7df964a520e0c621e3</td>\n",
       "    </tr>\n",
       "    <tr>\n",
       "      <th>5</th>\n",
       "      <td>Barreworks</td>\n",
       "      <td>Yoga Studio</td>\n",
       "      <td>2576 Yonge St</td>\n",
       "      <td>NaN</td>\n",
       "      <td>43.714070</td>\n",
       "      <td>-79.400109</td>\n",
       "      <td>[{'label': 'display', 'lat': 43.71407030751952, 'lng': -79.40010911522093}]</td>\n",
       "      <td>471</td>\n",
       "      <td>CA</td>\n",
       "      <td>Toronto</td>\n",
       "      <td>ON</td>\n",
       "      <td>Canada</td>\n",
       "      <td>[2576 Yonge St, Toronto ON, Canada]</td>\n",
       "      <td>NaN</td>\n",
       "      <td>NaN</td>\n",
       "      <td>51606062e4b0878cf540f4a2</td>\n",
       "    </tr>\n",
       "    <tr>\n",
       "      <th>6</th>\n",
       "      <td>Sign of the Skier</td>\n",
       "      <td>Sporting Goods Shop</td>\n",
       "      <td>2794 Yonge St</td>\n",
       "      <td>NaN</td>\n",
       "      <td>43.719395</td>\n",
       "      <td>-79.401234</td>\n",
       "      <td>[{'label': 'display', 'lat': 43.71939547570994, 'lng': -79.40123398131982}]</td>\n",
       "      <td>572</td>\n",
       "      <td>CA</td>\n",
       "      <td>Toronto</td>\n",
       "      <td>ON</td>\n",
       "      <td>Canada</td>\n",
       "      <td>[2794 Yonge St, Toronto ON, Canada]</td>\n",
       "      <td>NaN</td>\n",
       "      <td>NaN</td>\n",
       "      <td>4b197353f964a5208ddd23e3</td>\n",
       "    </tr>\n",
       "    <tr>\n",
       "      <th>7</th>\n",
       "      <td>La Vecchia Ristorante</td>\n",
       "      <td>Italian Restaurant</td>\n",
       "      <td>2405A Yonge St.</td>\n",
       "      <td>btwn Broadway &amp; Erskine Ave.</td>\n",
       "      <td>43.710167</td>\n",
       "      <td>-79.399086</td>\n",
       "      <td>[{'label': 'display', 'lat': 43.710166725920814, 'lng': -79.39908639249543}]</td>\n",
       "      <td>786</td>\n",
       "      <td>CA</td>\n",
       "      <td>Toronto</td>\n",
       "      <td>ON</td>\n",
       "      <td>Canada</td>\n",
       "      <td>[2405A Yonge St. (btwn Broadway &amp; Erskine Ave.), Toronto ON M4P 2E7, Canada]</td>\n",
       "      <td>M4P 2E7</td>\n",
       "      <td>NaN</td>\n",
       "      <td>4aecffb0f964a520a3cc21e3</td>\n",
       "    </tr>\n",
       "    <tr>\n",
       "      <th>8</th>\n",
       "      <td>Alexander Muir Memorial Gardens</td>\n",
       "      <td>Garden</td>\n",
       "      <td>2901 Yonge St.</td>\n",
       "      <td>NaN</td>\n",
       "      <td>43.721315</td>\n",
       "      <td>-79.400822</td>\n",
       "      <td>[{'label': 'display', 'lat': 43.72131498723094, 'lng': -79.40082168480554}]</td>\n",
       "      <td>767</td>\n",
       "      <td>CA</td>\n",
       "      <td>Toronto</td>\n",
       "      <td>ON</td>\n",
       "      <td>Canada</td>\n",
       "      <td>[2901 Yonge St., Toronto ON M4N 3N8, Canada]</td>\n",
       "      <td>M4N 3N8</td>\n",
       "      <td>NaN</td>\n",
       "      <td>4c5ec2e585a1e21e4bf35c11</td>\n",
       "    </tr>\n",
       "    <tr>\n",
       "      <th>9</th>\n",
       "      <td>Cibo Wine Bar</td>\n",
       "      <td>Italian Restaurant</td>\n",
       "      <td>2472 Yonge St</td>\n",
       "      <td>at Castlefield Ave</td>\n",
       "      <td>43.711464</td>\n",
       "      <td>-79.399570</td>\n",
       "      <td>[{'label': 'display', 'lat': 43.711463877485286, 'lng': -79.39957014527212}]</td>\n",
       "      <td>657</td>\n",
       "      <td>CA</td>\n",
       "      <td>Toronto</td>\n",
       "      <td>ON</td>\n",
       "      <td>Canada</td>\n",
       "      <td>[2472 Yonge St (at Castlefield Ave), Toronto ON, Canada]</td>\n",
       "      <td>NaN</td>\n",
       "      <td>NaN</td>\n",
       "      <td>558b50e1498eb7bbde2fa5c5</td>\n",
       "    </tr>\n",
       "  </tbody>\n",
       "</table>\n",
       "</div>"
      ],
      "text/plain": [
       "                               name           categories          address  \\\n",
       "0  Himalayan Java                    Café                 2552 Yonge St     \n",
       "1  Sheridan Nurseries                Flower Shop          2827 Yonge St.    \n",
       "2  De Mello Palheta Coffee Roasters  Coffee Shop          2489 Yonge St     \n",
       "3  Douce France                      Bakery               2471 Yonge St     \n",
       "4  Starbucks                         Coffee Shop          2451 Yonge St N   \n",
       "5  Barreworks                        Yoga Studio          2576 Yonge St     \n",
       "6  Sign of the Skier                 Sporting Goods Shop  2794 Yonge St     \n",
       "7  La Vecchia Ristorante             Italian Restaurant   2405A Yonge St.   \n",
       "8  Alexander Muir Memorial Gardens   Garden               2901 Yonge St.    \n",
       "9  Cibo Wine Bar                     Italian Restaurant   2472 Yonge St     \n",
       "\n",
       "                    crossStreet        lat        lng  \\\n",
       "0  Briar Hill                    43.713486 -79.399811   \n",
       "1  NaN                           43.719005 -79.400500   \n",
       "2  Erksine Ave                   43.711791 -79.399403   \n",
       "3  Erskine                       43.711554 -79.399394   \n",
       "4  at Erskine Ave.               43.711039 -79.398924   \n",
       "5  NaN                           43.714070 -79.400109   \n",
       "6  NaN                           43.719395 -79.401234   \n",
       "7  btwn Broadway & Erskine Ave.  43.710167 -79.399086   \n",
       "8  NaN                           43.721315 -79.400822   \n",
       "9  at Castlefield Ave            43.711464 -79.399570   \n",
       "\n",
       "                                                                 labeledLatLngs  \\\n",
       "0  [{'label': 'display', 'lat': 43.713486181375714, 'lng': -79.39981137215881}]   \n",
       "1  [{'label': 'display', 'lat': 43.71900479624233, 'lng': -79.40050025384096}]    \n",
       "2  [{'label': 'display', 'lat': 43.71179137179029, 'lng': -79.39940300399607}]    \n",
       "3  [{'label': 'display', 'lat': 43.7115544338723, 'lng': -79.3993940377493}]      \n",
       "4  [{'label': 'display', 'lat': 43.711039, 'lng': -79.398924}]                    \n",
       "5  [{'label': 'display', 'lat': 43.71407030751952, 'lng': -79.40010911522093}]    \n",
       "6  [{'label': 'display', 'lat': 43.71939547570994, 'lng': -79.40123398131982}]    \n",
       "7  [{'label': 'display', 'lat': 43.710166725920814, 'lng': -79.39908639249543}]   \n",
       "8  [{'label': 'display', 'lat': 43.72131498723094, 'lng': -79.40082168480554}]    \n",
       "9  [{'label': 'display', 'lat': 43.711463877485286, 'lng': -79.39957014527212}]   \n",
       "\n",
       "   distance  cc     city state country  \\\n",
       "0  517       CA  Toronto  ON    Canada   \n",
       "1  579       CA  Toronto  ON    Canada   \n",
       "2  644       CA  Toronto  ON    Canada   \n",
       "3  661       CA  Toronto  ON    Canada   \n",
       "4  727       CA  Toronto  ON    Canada   \n",
       "5  471       CA  Toronto  ON    Canada   \n",
       "6  572       CA  Toronto  ON    Canada   \n",
       "7  786       CA  Toronto  ON    Canada   \n",
       "8  767       CA  Toronto  ON    Canada   \n",
       "9  657       CA  Toronto  ON    Canada   \n",
       "\n",
       "                                                               formattedAddress  \\\n",
       "0  [2552 Yonge St (Briar Hill), Toronto ON, Canada]                               \n",
       "1  [2827 Yonge St., Toronto ON M4N 2J4, Canada]                                   \n",
       "2  [2489 Yonge St (Erksine Ave), Toronto ON M4P 2H6, Canada]                      \n",
       "3  [2471 Yonge St (Erskine), Toronto ON M4P 2H6, Canada]                          \n",
       "4  [2451 Yonge St N (at Erskine Ave.), Toronto ON M4P 2E7, Canada]                \n",
       "5  [2576 Yonge St, Toronto ON, Canada]                                            \n",
       "6  [2794 Yonge St, Toronto ON, Canada]                                            \n",
       "7  [2405A Yonge St. (btwn Broadway & Erskine Ave.), Toronto ON M4P 2E7, Canada]   \n",
       "8  [2901 Yonge St., Toronto ON M4N 3N8, Canada]                                   \n",
       "9  [2472 Yonge St (at Castlefield Ave), Toronto ON, Canada]                       \n",
       "\n",
       "  postalCode neighborhood                        id  \n",
       "0  NaN        NaN          4f4d31aee4b0ef284ae397ea  \n",
       "1  M4N 2J4    NaN          4afdecd4f964a5201c2c22e3  \n",
       "2  M4P 2H6    NaN          51819802498ee3c6834b8e0b  \n",
       "3  M4P 2H6    NaN          5207a80711d22721ffa80bfc  \n",
       "4  M4P 2E7    NaN          4aec6b7df964a520e0c621e3  \n",
       "5  NaN        NaN          51606062e4b0878cf540f4a2  \n",
       "6  NaN        NaN          4b197353f964a5208ddd23e3  \n",
       "7  M4P 2E7    NaN          4aecffb0f964a520a3cc21e3  \n",
       "8  M4N 3N8    NaN          4c5ec2e585a1e21e4bf35c11  \n",
       "9  NaN        NaN          558b50e1498eb7bbde2fa5c5  "
      ]
     },
     "execution_count": 31,
     "metadata": {},
     "output_type": "execute_result"
    }
   ],
   "source": [
    "dataframe = json_normalize(items) # flatten JSON\n",
    "\n",
    "# filter columns\n",
    "filtered_columns = ['venue.name', 'venue.categories'] + [col for col in dataframe.columns if col.startswith('venue.location.')] + ['venue.id']\n",
    "dataframe_filtered = dataframe.loc[:, filtered_columns]\n",
    "\n",
    "# filter the category for each row\n",
    "dataframe_filtered['venue.categories'] = dataframe_filtered.apply(get_category_type, axis=1)\n",
    "\n",
    "# clean columns\n",
    "dataframe_filtered.columns = [col.split('.')[-1] for col in dataframe_filtered.columns]\n",
    "\n",
    "dataframe_filtered.head(10)"
   ]
  },
  {
   "cell_type": "markdown",
   "metadata": {},
   "source": [
    "## Let's save the data frame to a CSV file"
   ]
  },
  {
   "cell_type": "code",
   "execution_count": 32,
   "metadata": {},
   "outputs": [],
   "source": [
    "dataframe_filtered.to_csv('VenuesNTorontoWL.csv', index=False) "
   ]
  },
  {
   "cell_type": "markdown",
   "metadata": {
    "button": false,
    "new_sheet": false,
    "run_control": {
     "read_only": false
    }
   },
   "source": [
    "#### Let's visualize these items on the map around our location\n"
   ]
  },
  {
   "cell_type": "code",
   "execution_count": 33,
   "metadata": {
    "button": false,
    "collapsed": false,
    "jupyter": {
     "outputs_hidden": false
    },
    "new_sheet": false,
    "run_control": {
     "read_only": false
    },
    "scrolled": true
   },
   "outputs": [
    {
     "data": {
      "text/html": [
       "<div style=\"width:100%;\"><div style=\"position:relative;width:100%;height:0;padding-bottom:60%;\"><span style=\"color:#565656\">Make this Notebook Trusted to load map: File -> Trust Notebook</span><iframe src=\"about:blank\" style=\"position:absolute;width:100%;height:100%;left:0;top:0;border:none !important;\" data-html=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 onload=\"this.contentDocument.open();this.contentDocument.write(atob(this.getAttribute('data-html')));this.contentDocument.close();\" allowfullscreen webkitallowfullscreen mozallowfullscreen></iframe></div></div>"
      ],
      "text/plain": [
       "<folium.folium.Map at 0x7f19934a4588>"
      ]
     },
     "execution_count": 33,
     "metadata": {},
     "output_type": "execute_result"
    }
   ],
   "source": [
    "venues_map = folium.Map(location=[latitude, longitude], zoom_start=15) # generate map centred around Ecco\n",
    "\n",
    "\n",
    "# add North Toronto West Lawrence as a red circle mark\n",
    "folium.CircleMarker(\n",
    "    [latitude, longitude],\n",
    "    radius=10,\n",
    "    popup='North Toronto West, Lawrence',\n",
    "    fill=True,\n",
    "    color='red',\n",
    "    fill_color='red',\n",
    "    fill_opacity=0.6\n",
    "    ).add_to(venues_map)\n",
    "\n",
    "\n",
    "# add popular spots to the map as blue circle markers\n",
    "for lat, lng, label in zip(dataframe_filtered.lat, dataframe_filtered.lng, dataframe_filtered.categories):\n",
    "    folium.CircleMarker(\n",
    "        [lat, lng],\n",
    "        radius=5,\n",
    "        popup=label,\n",
    "        fill=True,\n",
    "        color='blue',\n",
    "        fill_color='blue',\n",
    "        fill_opacity=0.6\n",
    "        ).add_to(venues_map)\n",
    "\n",
    "# display map\n",
    "venues_map"
   ]
  },
  {
   "cell_type": "markdown",
   "metadata": {
    "button": false,
    "new_sheet": false,
    "run_control": {
     "read_only": false
    }
   },
   "source": [
    "<a ><img src = \"https://github.com/kmiralles/Captstone-Data-Science/blob/main/NorthTorontoVenues.png?raw=true\" > </a>\n"
   ]
  },
  {
   "cell_type": "markdown",
   "metadata": {
    "button": false,
    "new_sheet": false,
    "run_control": {
     "read_only": false
    }
   },
   "source": [
    "<a id=\"item4\"></a>\n"
   ]
  },
  {
   "cell_type": "markdown",
   "metadata": {
    "button": false,
    "new_sheet": false,
    "run_control": {
     "read_only": false
    }
   },
   "source": [
    "## 4. Explore Trending Venues\n",
    "\n",
    "> `https://api.foursquare.com/v2/venues/`**trending**`?client_id=`**CLIENT_ID**`&client_secret=`**CLIENT_SECRET**`&ll=`**LATITUDE**`,`**LONGITUDE**`&v=`**VERSION**\n"
   ]
  },
  {
   "cell_type": "markdown",
   "metadata": {
    "button": false,
    "new_sheet": false,
    "run_control": {
     "read_only": false
    }
   },
   "source": [
    "#### Now, instead of simply exploring the area around this location, we are interested in knowing the venues that are trending at this time, meaning the places with the highest foot traffic. So let's do that and get the trending venues around this location.\n"
   ]
  },
  {
   "cell_type": "markdown",
   "metadata": {},
   "source": [
    "## Run the following lines at Breakfast time"
   ]
  },
  {
   "cell_type": "code",
   "execution_count": 34,
   "metadata": {
    "button": false,
    "collapsed": false,
    "jupyter": {
     "outputs_hidden": false
    },
    "new_sheet": false,
    "run_control": {
     "read_only": false
    }
   },
   "outputs": [
    {
     "data": {
      "text/plain": [
       "{'meta': {'code': 200, 'requestId': '60046f3dc754223a4e217c64'},\n",
       " 'response': {'venues': []}}"
      ]
     },
     "execution_count": 34,
     "metadata": {},
     "output_type": "execute_result"
    }
   ],
   "source": [
    "# define URL\n",
    "url = 'https://api.foursquare.com/v2/venues/trending?client_id={}&client_secret={}&ll={},{}&v={}'.format(CLIENT_ID, CLIENT_SECRET, latitude, longitude, VERSION)\n",
    "\n",
    "# send GET request and get trending venues\n",
    "results = requests.get(url).json()\n",
    "results"
   ]
  },
  {
   "cell_type": "markdown",
   "metadata": {
    "button": false,
    "new_sheet": false,
    "run_control": {
     "read_only": false
    }
   },
   "source": [
    "### Check if any venues are trending at this time\n"
   ]
  },
  {
   "cell_type": "code",
   "execution_count": 35,
   "metadata": {
    "button": false,
    "new_sheet": false,
    "run_control": {
     "read_only": false
    }
   },
   "outputs": [],
   "source": [
    "if len(results['response']['venues']) == 0:\n",
    "    trending_venues_df = 'No trending venues are available at the moment!'\n",
    "    \n",
    "else:\n",
    "    trending_venues = results['response']['venues']\n",
    "    trending_venues_df = json_normalize(trending_venues)\n",
    "\n",
    "    # filter columns\n",
    "    columns_filtered = ['name', 'categories'] + ['location.distance', 'location.city', 'location.postalCode', 'location.state', 'location.country', 'location.lat', 'location.lng']\n",
    "    trending_venues_df = trending_venues_df.loc[:, columns_filtered]\n",
    "\n",
    "    # filter the category for each row\n",
    "    trending_venues_df['categories'] = trending_venues_df.apply(get_category_type, axis=1)"
   ]
  },
  {
   "cell_type": "code",
   "execution_count": 36,
   "metadata": {
    "button": false,
    "collapsed": false,
    "jupyter": {
     "outputs_hidden": false
    },
    "new_sheet": false,
    "run_control": {
     "read_only": false
    }
   },
   "outputs": [
    {
     "data": {
      "text/plain": [
       "'No trending venues are available at the moment!'"
      ]
     },
     "execution_count": 36,
     "metadata": {},
     "output_type": "execute_result"
    }
   ],
   "source": [
    "# display trending venues\n",
    "trending_venues_df"
   ]
  },
  {
   "cell_type": "markdown",
   "metadata": {},
   "source": [
    "## Save Trending Venues at Breakfast time to CSV"
   ]
  },
  {
   "cell_type": "code",
   "execution_count": null,
   "metadata": {},
   "outputs": [],
   "source": [
    "trending_venues_df.df.to_csv('TrendingBreakfastNTorontoWL.csv', index=False) "
   ]
  },
  {
   "cell_type": "markdown",
   "metadata": {
    "button": false,
    "new_sheet": false,
    "run_control": {
     "read_only": false
    }
   },
   "source": [
    "Now, depending on when you run the above code, you might get different venues since the venues with the highest foot traffic are fetched live. \n"
   ]
  },
  {
   "cell_type": "markdown",
   "metadata": {
    "button": false,
    "new_sheet": false,
    "run_control": {
     "read_only": false
    }
   },
   "source": [
    "### Visualize trending venues\n"
   ]
  },
  {
   "cell_type": "code",
   "execution_count": null,
   "metadata": {
    "button": false,
    "collapsed": false,
    "jupyter": {
     "outputs_hidden": false
    },
    "new_sheet": false,
    "run_control": {
     "read_only": false
    }
   },
   "outputs": [],
   "source": [
    "if len(results['response']['venues']) == 0:\n",
    "    venues_map = 'Cannot generate visual as no trending venues are available at the moment!'\n",
    "\n",
    "else:\n",
    "    venues_map = folium.Map(location=[latitude, longitude], zoom_start=15) # generate map centred around Ecco\n",
    "\n",
    "\n",
    "    # add Ecco as a red circle mark\n",
    "    folium.CircleMarker(\n",
    "        [latitude, longitude],\n",
    "        radius=10,\n",
    "        popup='Ecco',\n",
    "        fill=True,\n",
    "        color='red',\n",
    "        fill_color='red',\n",
    "        fill_opacity=0.6\n",
    "    ).add_to(venues_map)\n",
    "\n",
    "\n",
    "    # add the trending venues as blue circle markers\n",
    "    for lat, lng, label in zip(trending_venues_df['location.lat'], trending_venues_df['location.lng'], trending_venues_df['name']):\n",
    "        folium.CircleMarker(\n",
    "            [lat, lng],\n",
    "            radius=5,\n",
    "            poup=label,\n",
    "            fill=True,\n",
    "            color='blue',\n",
    "            fill_color='blue',\n",
    "            fill_opacity=0.6\n",
    "        ).add_to(venues_map)"
   ]
  },
  {
   "cell_type": "code",
   "execution_count": null,
   "metadata": {
    "button": false,
    "collapsed": false,
    "jupyter": {
     "outputs_hidden": false
    },
    "new_sheet": false,
    "run_control": {
     "read_only": false
    },
    "scrolled": true
   },
   "outputs": [],
   "source": [
    "# display map\n",
    "venues_map"
   ]
  },
  {
   "cell_type": "code",
   "execution_count": null,
   "metadata": {},
   "outputs": [],
   "source": []
  },
  {
   "cell_type": "markdown",
   "metadata": {},
   "source": [
    "## Run the following lines at Lunch time"
   ]
  },
  {
   "cell_type": "code",
   "execution_count": 6,
   "metadata": {
    "button": false,
    "collapsed": false,
    "jupyter": {
     "outputs_hidden": false
    },
    "new_sheet": false,
    "run_control": {
     "read_only": false
    }
   },
   "outputs": [
    {
     "data": {
      "text/plain": [
       "{'meta': {'code': 200, 'requestId': '600cc964fbbe710ceedce52c'},\n",
       " 'response': {'venues': []}}"
      ]
     },
     "execution_count": 6,
     "metadata": {},
     "output_type": "execute_result"
    }
   ],
   "source": [
    "# define URL\n",
    "url = 'https://api.foursquare.com/v2/venues/trending?client_id={}&client_secret={}&ll={},{}&v={}'.format(CLIENT_ID, CLIENT_SECRET, latitude, longitude, VERSION)\n",
    "\n",
    "# send GET request and get trending venues\n",
    "results = requests.get(url).json()\n",
    "results"
   ]
  },
  {
   "cell_type": "markdown",
   "metadata": {
    "button": false,
    "new_sheet": false,
    "run_control": {
     "read_only": false
    }
   },
   "source": [
    "### Check if any venues are trending at this time\n"
   ]
  },
  {
   "cell_type": "code",
   "execution_count": null,
   "metadata": {
    "button": false,
    "new_sheet": false,
    "run_control": {
     "read_only": false
    }
   },
   "outputs": [],
   "source": [
    "if len(results['response']['venues']) == 0:\n",
    "    trending_venues_df = 'No trending venues are available at the moment!'\n",
    "    \n",
    "else:\n",
    "    trending_venues = results['response']['venues']\n",
    "    trending_venues_df = json_normalize(trending_venues)\n",
    "\n",
    "    # filter columns\n",
    "    columns_filtered = ['name', 'categories'] + ['location.distance', 'location.city', 'location.postalCode', 'location.state', 'location.country', 'location.lat', 'location.lng']\n",
    "    trending_venues_df = trending_venues_df.loc[:, columns_filtered]\n",
    "\n",
    "    # filter the category for each row\n",
    "    trending_venues_df['categories'] = trending_venues_df.apply(get_category_type, axis=1)"
   ]
  },
  {
   "cell_type": "code",
   "execution_count": 8,
   "metadata": {
    "button": false,
    "collapsed": false,
    "jupyter": {
     "outputs_hidden": false
    },
    "new_sheet": false,
    "run_control": {
     "read_only": false
    }
   },
   "outputs": [
    {
     "data": {
      "text/plain": [
       "'No trending venues are available at the moment!'"
      ]
     },
     "execution_count": 8,
     "metadata": {},
     "output_type": "execute_result"
    }
   ],
   "source": [
    "# display trending venues\n",
    "trending_venues_df"
   ]
  },
  {
   "cell_type": "markdown",
   "metadata": {},
   "source": [
    "## Save Trending Venues at Lunch time to CSV"
   ]
  },
  {
   "cell_type": "code",
   "execution_count": null,
   "metadata": {},
   "outputs": [],
   "source": [
    "trending_venues_df.df.to_csv('TrendingLunchNTorontoWL.csv', index=False) "
   ]
  },
  {
   "cell_type": "markdown",
   "metadata": {
    "button": false,
    "new_sheet": false,
    "run_control": {
     "read_only": false
    }
   },
   "source": [
    "Now, depending on when you run the above code, you might get different venues since the venues with the highest foot traffic are fetched live. \n"
   ]
  },
  {
   "cell_type": "markdown",
   "metadata": {
    "button": false,
    "new_sheet": false,
    "run_control": {
     "read_only": false
    }
   },
   "source": [
    "### Visualize trending venues\n"
   ]
  },
  {
   "cell_type": "code",
   "execution_count": null,
   "metadata": {
    "button": false,
    "collapsed": false,
    "jupyter": {
     "outputs_hidden": false
    },
    "new_sheet": false,
    "run_control": {
     "read_only": false
    }
   },
   "outputs": [],
   "source": [
    "if len(results['response']['venues']) == 0:\n",
    "    venues_map = 'Cannot generate visual as no trending venues are available at the moment!'\n",
    "\n",
    "else:\n",
    "    venues_map = folium.Map(location=[latitude, longitude], zoom_start=15) # generate map centred around Ecco\n",
    "\n",
    "\n",
    "    # add Ecco as a red circle mark\n",
    "    folium.CircleMarker(\n",
    "        [latitude, longitude],\n",
    "        radius=10,\n",
    "        popup='Ecco',\n",
    "        fill=True,\n",
    "        color='red',\n",
    "        fill_color='red',\n",
    "        fill_opacity=0.6\n",
    "    ).add_to(venues_map)\n",
    "\n",
    "\n",
    "    # add the trending venues as blue circle markers\n",
    "    for lat, lng, label in zip(trending_venues_df['location.lat'], trending_venues_df['location.lng'], trending_venues_df['name']):\n",
    "        folium.CircleMarker(\n",
    "            [lat, lng],\n",
    "            radius=5,\n",
    "            poup=label,\n",
    "            fill=True,\n",
    "            color='blue',\n",
    "            fill_color='blue',\n",
    "            fill_opacity=0.6\n",
    "        ).add_to(venues_map)"
   ]
  },
  {
   "cell_type": "code",
   "execution_count": null,
   "metadata": {
    "button": false,
    "collapsed": false,
    "jupyter": {
     "outputs_hidden": false
    },
    "new_sheet": false,
    "run_control": {
     "read_only": false
    },
    "scrolled": true
   },
   "outputs": [],
   "source": [
    "# display map\n",
    "venues_map"
   ]
  },
  {
   "cell_type": "code",
   "execution_count": null,
   "metadata": {},
   "outputs": [],
   "source": []
  },
  {
   "cell_type": "markdown",
   "metadata": {},
   "source": [
    "## Run the following lines at HappyHour time"
   ]
  },
  {
   "cell_type": "code",
   "execution_count": 7,
   "metadata": {
    "button": false,
    "collapsed": false,
    "jupyter": {
     "outputs_hidden": false
    },
    "new_sheet": false,
    "run_control": {
     "read_only": false
    }
   },
   "outputs": [
    {
     "data": {
      "text/plain": [
       "{'meta': {'code': 200, 'requestId': '600a11604e8bdc6bb1a6efbd'},\n",
       " 'response': {'venues': []}}"
      ]
     },
     "execution_count": 7,
     "metadata": {},
     "output_type": "execute_result"
    }
   ],
   "source": [
    "# define URL\n",
    "url = 'https://api.foursquare.com/v2/venues/trending?client_id={}&client_secret={}&ll={},{}&v={}'.format(CLIENT_ID, CLIENT_SECRET, latitude, longitude, VERSION)\n",
    "\n",
    "# send GET request and get trending venues\n",
    "results = requests.get(url).json()\n",
    "results"
   ]
  },
  {
   "cell_type": "markdown",
   "metadata": {
    "button": false,
    "new_sheet": false,
    "run_control": {
     "read_only": false
    }
   },
   "source": [
    "### Check if any venues are trending at this time\n"
   ]
  },
  {
   "cell_type": "code",
   "execution_count": 8,
   "metadata": {
    "button": false,
    "new_sheet": false,
    "run_control": {
     "read_only": false
    }
   },
   "outputs": [],
   "source": [
    "if len(results['response']['venues']) == 0:\n",
    "    trending_venues_df = 'No trending venues are available at the moment!'\n",
    "    \n",
    "else:\n",
    "    trending_venues = results['response']['venues']\n",
    "    trending_venues_df = json_normalize(trending_venues)\n",
    "\n",
    "    # filter columns\n",
    "    columns_filtered = ['name', 'categories'] + ['location.distance', 'location.city', 'location.postalCode', 'location.state', 'location.country', 'location.lat', 'location.lng']\n",
    "    trending_venues_df = trending_venues_df.loc[:, columns_filtered]\n",
    "\n",
    "    # filter the category for each row\n",
    "    trending_venues_df['categories'] = trending_venues_df.apply(get_category_type, axis=1)"
   ]
  },
  {
   "cell_type": "code",
   "execution_count": 9,
   "metadata": {
    "button": false,
    "collapsed": false,
    "jupyter": {
     "outputs_hidden": false
    },
    "new_sheet": false,
    "run_control": {
     "read_only": false
    }
   },
   "outputs": [
    {
     "data": {
      "text/plain": [
       "'No trending venues are available at the moment!'"
      ]
     },
     "execution_count": 9,
     "metadata": {},
     "output_type": "execute_result"
    }
   ],
   "source": [
    "# display trending venues\n",
    "trending_venues_df"
   ]
  },
  {
   "cell_type": "markdown",
   "metadata": {},
   "source": [
    "## Save Trending Venues at Happy Hour time to CSV"
   ]
  },
  {
   "cell_type": "code",
   "execution_count": null,
   "metadata": {},
   "outputs": [],
   "source": [
    "trending_venues_df.df.to_csv('TrendingHappyHourNTorontoWL.csv', index=False) "
   ]
  },
  {
   "cell_type": "markdown",
   "metadata": {
    "button": false,
    "new_sheet": false,
    "run_control": {
     "read_only": false
    }
   },
   "source": [
    "Now, depending on when you run the above code, you might get different venues since the venues with the highest foot traffic are fetched live. \n"
   ]
  },
  {
   "cell_type": "markdown",
   "metadata": {
    "button": false,
    "new_sheet": false,
    "run_control": {
     "read_only": false
    }
   },
   "source": [
    "### Visualize trending venues\n"
   ]
  },
  {
   "cell_type": "code",
   "execution_count": null,
   "metadata": {
    "button": false,
    "collapsed": false,
    "jupyter": {
     "outputs_hidden": false
    },
    "new_sheet": false,
    "run_control": {
     "read_only": false
    }
   },
   "outputs": [],
   "source": [
    "if len(results['response']['venues']) == 0:\n",
    "    venues_map = 'Cannot generate visual as no trending venues are available at the moment!'\n",
    "\n",
    "else:\n",
    "    venues_map = folium.Map(location=[latitude, longitude], zoom_start=15) # generate map centred around Ecco\n",
    "\n",
    "\n",
    "    # add Ecco as a red circle mark\n",
    "    folium.CircleMarker(\n",
    "        [latitude, longitude],\n",
    "        radius=10,\n",
    "        popup='Ecco',\n",
    "        fill=True,\n",
    "        color='red',\n",
    "        fill_color='red',\n",
    "        fill_opacity=0.6\n",
    "    ).add_to(venues_map)\n",
    "\n",
    "\n",
    "    # add the trending venues as blue circle markers\n",
    "    for lat, lng, label in zip(trending_venues_df['location.lat'], trending_venues_df['location.lng'], trending_venues_df['name']):\n",
    "        folium.CircleMarker(\n",
    "            [lat, lng],\n",
    "            radius=5,\n",
    "            poup=label,\n",
    "            fill=True,\n",
    "            color='blue',\n",
    "            fill_color='blue',\n",
    "            fill_opacity=0.6\n",
    "        ).add_to(venues_map)"
   ]
  },
  {
   "cell_type": "code",
   "execution_count": null,
   "metadata": {
    "button": false,
    "collapsed": false,
    "jupyter": {
     "outputs_hidden": false
    },
    "new_sheet": false,
    "run_control": {
     "read_only": false
    },
    "scrolled": true
   },
   "outputs": [],
   "source": [
    "# display map\n",
    "venues_map"
   ]
  },
  {
   "cell_type": "code",
   "execution_count": null,
   "metadata": {},
   "outputs": [],
   "source": []
  },
  {
   "cell_type": "markdown",
   "metadata": {},
   "source": [
    "## Run the following lines at Dinner time"
   ]
  },
  {
   "cell_type": "code",
   "execution_count": 7,
   "metadata": {
    "button": false,
    "collapsed": false,
    "jupyter": {
     "outputs_hidden": false
    },
    "new_sheet": false,
    "run_control": {
     "read_only": false
    }
   },
   "outputs": [
    {
     "data": {
      "text/plain": [
       "{'meta': {'code': 200, 'requestId': '600a530b69387b0b1f647ba2'},\n",
       " 'response': {'venues': []}}"
      ]
     },
     "execution_count": 7,
     "metadata": {},
     "output_type": "execute_result"
    }
   ],
   "source": [
    "# define URL\n",
    "url = 'https://api.foursquare.com/v2/venues/trending?client_id={}&client_secret={}&ll={},{}&v={}'.format(CLIENT_ID, CLIENT_SECRET, latitude, longitude, VERSION)\n",
    "\n",
    "# send GET request and get trending venues\n",
    "results = requests.get(url).json()\n",
    "results"
   ]
  },
  {
   "cell_type": "markdown",
   "metadata": {
    "button": false,
    "new_sheet": false,
    "run_control": {
     "read_only": false
    }
   },
   "source": [
    "### Check if any venues are trending at this time\n"
   ]
  },
  {
   "cell_type": "code",
   "execution_count": 8,
   "metadata": {
    "button": false,
    "new_sheet": false,
    "run_control": {
     "read_only": false
    }
   },
   "outputs": [],
   "source": [
    "if len(results['response']['venues']) == 0:\n",
    "    trending_venues_df = 'No trending venues are available at the moment!'\n",
    "    \n",
    "else:\n",
    "    trending_venues = results['response']['venues']\n",
    "    trending_venues_df = json_normalize(trending_venues)\n",
    "\n",
    "    # filter columns\n",
    "    columns_filtered = ['name', 'categories'] + ['location.distance', 'location.city', 'location.postalCode', 'location.state', 'location.country', 'location.lat', 'location.lng']\n",
    "    trending_venues_df = trending_venues_df.loc[:, columns_filtered]\n",
    "\n",
    "    # filter the category for each row\n",
    "    trending_venues_df['categories'] = trending_venues_df.apply(get_category_type, axis=1)"
   ]
  },
  {
   "cell_type": "code",
   "execution_count": 9,
   "metadata": {
    "button": false,
    "collapsed": false,
    "jupyter": {
     "outputs_hidden": false
    },
    "new_sheet": false,
    "run_control": {
     "read_only": false
    }
   },
   "outputs": [
    {
     "data": {
      "text/plain": [
       "'No trending venues are available at the moment!'"
      ]
     },
     "execution_count": 9,
     "metadata": {},
     "output_type": "execute_result"
    }
   ],
   "source": [
    "# display trending venues\n",
    "trending_venues_df"
   ]
  },
  {
   "cell_type": "markdown",
   "metadata": {},
   "source": [
    "## Save Trending Venues at Dinner time to CSV"
   ]
  },
  {
   "cell_type": "code",
   "execution_count": null,
   "metadata": {},
   "outputs": [],
   "source": [
    "trending_venues_df.df.to_csv('TrendingDinnerNTorontoWL.csv', index=False) "
   ]
  },
  {
   "cell_type": "markdown",
   "metadata": {
    "button": false,
    "new_sheet": false,
    "run_control": {
     "read_only": false
    }
   },
   "source": [
    "Now, depending on when you run the above code, you might get different venues since the venues with the highest foot traffic are fetched live. \n"
   ]
  },
  {
   "cell_type": "markdown",
   "metadata": {
    "button": false,
    "new_sheet": false,
    "run_control": {
     "read_only": false
    }
   },
   "source": [
    "### Visualize trending venues\n"
   ]
  },
  {
   "cell_type": "code",
   "execution_count": null,
   "metadata": {
    "button": false,
    "collapsed": false,
    "jupyter": {
     "outputs_hidden": false
    },
    "new_sheet": false,
    "run_control": {
     "read_only": false
    }
   },
   "outputs": [],
   "source": [
    "if len(results['response']['venues']) == 0:\n",
    "    venues_map = 'Cannot generate visual as no trending venues are available at the moment!'\n",
    "\n",
    "else:\n",
    "    venues_map = folium.Map(location=[latitude, longitude], zoom_start=15) # generate map centred around Ecco\n",
    "\n",
    "\n",
    "    # add Ecco as a red circle mark\n",
    "    folium.CircleMarker(\n",
    "        [latitude, longitude],\n",
    "        radius=10,\n",
    "        popup='Ecco',\n",
    "        fill=True,\n",
    "        color='red',\n",
    "        fill_color='red',\n",
    "        fill_opacity=0.6\n",
    "    ).add_to(venues_map)\n",
    "\n",
    "\n",
    "    # add the trending venues as blue circle markers\n",
    "    for lat, lng, label in zip(trending_venues_df['location.lat'], trending_venues_df['location.lng'], trending_venues_df['name']):\n",
    "        folium.CircleMarker(\n",
    "            [lat, lng],\n",
    "            radius=5,\n",
    "            poup=label,\n",
    "            fill=True,\n",
    "            color='blue',\n",
    "            fill_color='blue',\n",
    "            fill_opacity=0.6\n",
    "        ).add_to(venues_map)"
   ]
  },
  {
   "cell_type": "code",
   "execution_count": null,
   "metadata": {
    "button": false,
    "collapsed": false,
    "jupyter": {
     "outputs_hidden": false
    },
    "new_sheet": false,
    "run_control": {
     "read_only": false
    },
    "scrolled": true
   },
   "outputs": [],
   "source": [
    "# display map\n",
    "venues_map"
   ]
  },
  {
   "cell_type": "markdown",
   "metadata": {
    "button": false,
    "new_sheet": false,
    "run_control": {
     "read_only": false
    }
   },
   "source": [
    "<a id=\"item6\"></a>\n"
   ]
  },
  {
   "cell_type": "markdown",
   "metadata": {
    "button": false,
    "new_sheet": false,
    "run_control": {
     "read_only": false
    }
   },
   "source": [
    "\n"
   ]
  }
 ],
 "metadata": {
  "kernelspec": {
   "display_name": "Python",
   "language": "python",
   "name": "conda-env-python-py"
  },
  "language_info": {
   "codemirror_mode": {
    "name": "ipython",
    "version": 3
   },
   "file_extension": ".py",
   "mimetype": "text/x-python",
   "name": "python",
   "nbconvert_exporter": "python",
   "pygments_lexer": "ipython3",
   "version": "3.6.12"
  },
  "widgets": {
   "state": {},
   "version": "1.1.2"
  }
 },
 "nbformat": 4,
 "nbformat_minor": 4
}
